{
 "cells": [
  {
   "cell_type": "code",
   "execution_count": 263,
   "metadata": {},
   "outputs": [],
   "source": [
    "#Programa adaptado al archivo .txt de la serie de datos enlazada en el enunciado del taller\n",
    "archivo = open(\"datos.txt\")\n",
    "import matplotlib.pyplot as plt\n",
    "import numpy as np"
   ]
  },
  {
   "cell_type": "code",
   "execution_count": 264,
   "metadata": {},
   "outputs": [],
   "source": [
    "#Función que despeja el primer valor de cada línea del archivo .txt (preimagen de la función)\n",
    "def primerv(linea:str)->float:\n",
    "    c = False\n",
    "    valorst = \"\"\n",
    "    i=0\n",
    "    while c==False:\n",
    "        if linea[i]==\" \":\n",
    "            c=True\n",
    "        else:\n",
    "            valorst+=linea[i]\n",
    "            i+=1\n",
    "    valor = float(valorst)\n",
    "    return valor\n",
    "\n",
    "\n",
    "#Función que despeja el segundo valor de cada línea del archivo .txt (imagen de la función)\n",
    "def segundov(linea:str)->float:\n",
    "    c = False\n",
    "    valorst = \"\"\n",
    "    i=0\n",
    "    while c==False:\n",
    "        if linea[i]==\" \":\n",
    "            c=True\n",
    "        else:\n",
    "            i+=1\n",
    "    while c==True:\n",
    "        if linea[i]!=\" \":\n",
    "            c=False\n",
    "        else:\n",
    "            i+=1\n",
    "    t = linea[i:]\n",
    "    for a in t:\n",
    "        if a!=\" \":\n",
    "            valorst+=a\n",
    "    valor = float(valorst)\n",
    "    return valor\n",
    "\n"
   ]
  },
  {
   "cell_type": "code",
   "execution_count": 265,
   "metadata": {},
   "outputs": [],
   "source": [
    "#Agrupa los valores de la preimagen de la función en una lista\n",
    "def crear_lista_valores_preimagen(doc)->list:\n",
    "    lista =[]\n",
    "    for line in doc:\n",
    "        linea = str(line)\n",
    "        valor = primerv(linea)\n",
    "        lista.append(valor)\n",
    "    return lista\n",
    "\n",
    "\n",
    "#Agrupa los valores de la imagen de la función en una lista\n",
    "def crear_lista_valores_imagen(doc)->list:\n",
    "    lista =[]\n",
    "    for line in doc:\n",
    "        linea = str(line)\n",
    "        valor = segundov(linea)\n",
    "        lista.append(valor)\n",
    "    return lista\n",
    "\n",
    "\n",
    "    "
   ]
  },
  {
   "cell_type": "code",
   "execution_count": 266,
   "metadata": {},
   "outputs": [],
   "source": [
    "#Filtra los valores máximos locales de la lista creada con la función anterior\n",
    "def find_max(doc)->list:\n",
    "    \n",
    "    lista = crear_lista_valores_imagen(doc)\n",
    "    lista_vml = []\n",
    "    longitud = len(lista)\n",
    "    i=1\n",
    "    while i<longitud-1:\n",
    "        if lista[i]>lista[i+1] and lista[i]>lista[i-1]:\n",
    "            lista_vml.append(lista[i])\n",
    "        i+=1\n",
    "    return lista_vml"
   ]
  },
  {
   "cell_type": "code",
   "execution_count": 267,
   "metadata": {},
   "outputs": [],
   "source": [
    "#Ejecución: Los máximos locales del rango de datos se hallan en la siguiente lista \"Lista_vml\"\n",
    "#Lista_vml = find_max(archivo)\n",
    "#print(Lista_vml) (opcional)"
   ]
  },
  {
   "cell_type": "code",
   "execution_count": 268,
   "metadata": {},
   "outputs": [
    {
     "name": "stdout",
     "output_type": "stream",
     "text": [
      "198\n"
     ]
    }
   ],
   "source": [
    "#Proyección de gráfica (x,y)\n",
    "x = crear_lista_valores_preimagen(archivo)\n",
    "print(len(x))"
   ]
  },
  {
   "cell_type": "code",
   "execution_count": 269,
   "metadata": {},
   "outputs": [
    {
     "name": "stdout",
     "output_type": "stream",
     "text": [
      "0\n"
     ]
    }
   ],
   "source": [
    "y = crear_lista_valores_imagen(archivo)\n",
    "print(len(y))"
   ]
  },
  {
   "cell_type": "code",
   "execution_count": 270,
   "metadata": {},
   "outputs": [],
   "source": [
    "#Matriz_V = np.zeros((len(x)-1,2))\n",
    "#for d in range(0,len(Matriz_V)-1):\n",
    " #   Matriz_V[d,0]=x[d]\n",
    "  #  Matriz_V[d,1]=y[d]\n",
    "#print(a)\n",
    "#print(x_)\n",
    "#print(Matriz_V)"
   ]
  },
  {
   "cell_type": "code",
   "execution_count": 271,
   "metadata": {},
   "outputs": [],
   "source": [
    "archivo.close()"
   ]
  },
  {
   "cell_type": "code",
   "execution_count": null,
   "metadata": {},
   "outputs": [],
   "source": []
  }
 ],
 "metadata": {
  "kernelspec": {
   "display_name": "Python 3",
   "language": "python",
   "name": "python3"
  },
  "language_info": {
   "codemirror_mode": {
    "name": "ipython",
    "version": 3
   },
   "file_extension": ".py",
   "mimetype": "text/x-python",
   "name": "python",
   "nbconvert_exporter": "python",
   "pygments_lexer": "ipython3",
   "version": "3.8.5"
  }
 },
 "nbformat": 4,
 "nbformat_minor": 4
}
