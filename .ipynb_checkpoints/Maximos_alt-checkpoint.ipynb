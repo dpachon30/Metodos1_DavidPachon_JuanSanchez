{
 "cells": [
  {
   "cell_type": "code",
   "execution_count": 27,
   "metadata": {},
   "outputs": [],
   "source": [
    "import numpy as np\n",
    "from scipy.signal import argrelextrema\n",
    "archivo = open(\"datos.txt\")"
   ]
  },
  {
   "cell_type": "code",
   "execution_count": 28,
   "metadata": {},
   "outputs": [],
   "source": [
    "def segundov2(linea:str)->float:\n",
    "    c = False\n",
    "    valorst = \"\"\n",
    "    i=0\n",
    "    while c==False:\n",
    "        if linea[i]==\" \":\n",
    "            c=True\n",
    "        else:\n",
    "            i+=1\n",
    "    while c==True:\n",
    "        if linea[i]!=\" \":\n",
    "            c=False\n",
    "        else:\n",
    "            i+=1\n",
    "    t = linea[i:]\n",
    "    for a in t:\n",
    "        if a!=\" \":\n",
    "            valorst+=a\n",
    "    valor = float(valorst)\n",
    "    return valor"
   ]
  },
  {
   "cell_type": "code",
   "execution_count": null,
   "metadata": {},
   "outputs": [],
   "source": []
  },
  {
   "cell_type": "code",
   "execution_count": 29,
   "metadata": {},
   "outputs": [],
   "source": [
    "def crear_lista_valores(doc)->list:\n",
    "    lista =[]\n",
    "    for line in doc:\n",
    "        linea = str(line)\n",
    "        valor = segundov2(linea)\n",
    "        lista.append(valor)\n",
    "    return lista"
   ]
  },
  {
   "cell_type": "code",
   "execution_count": null,
   "metadata": {},
   "outputs": [],
   "source": []
  },
  {
   "cell_type": "code",
   "execution_count": 30,
   "metadata": {},
   "outputs": [],
   "source": [
    "def find_max(doc)->list:\n",
    "    \n",
    "    lista = crear_lista_valores(doc)\n",
    "    a = np.array(lista)\n",
    "    \n",
    "    maxl = argrelextrema(a, np.greater)\n",
    "    \n",
    "    lista_val_maxl = list(a[maxl])\n",
    "    \n",
    "    return lista_val_maxl\n",
    "    "
   ]
  },
  {
   "cell_type": "code",
   "execution_count": null,
   "metadata": {},
   "outputs": [],
   "source": []
  },
  {
   "cell_type": "code",
   "execution_count": 31,
   "metadata": {},
   "outputs": [
    {
     "name": "stdout",
     "output_type": "stream",
     "text": [
      "[1.036267, 1.03554, 1.024369, 1.045406, 1.012803, 1.030349, 1.015571, 1.035833, 1.017348, 1.02287, 1.013802, 1.020233, 1.034254, 1.02666, 1.014296, 1.024395, 1.040716, 1.027063, 1.039316, 1.060527, 1.051431, 1.089617, 1.330906, 1.032746, 1.031765, 1.068328, 1.102898, 1.064289, 1.040364, 1.079907, 1.000827, 1.089922, 1.030706, 1.025699, 0.9971942, 1.008569, 1.041762, 1.028908, 1.029255, 1.147828, 1.657519]\n",
      "41\n"
     ]
    }
   ],
   "source": [
    "#Ejecución:\n",
    "#Los maximos locales se presentan en la siguiente lista\n",
    "Lista_ml=find_max(archivo)\n",
    "print(Lista_ml)\n",
    "print(len(Lista_ml))"
   ]
  },
  {
   "cell_type": "code",
   "execution_count": null,
   "metadata": {},
   "outputs": [],
   "source": []
  },
  {
   "cell_type": "code",
   "execution_count": 32,
   "metadata": {},
   "outputs": [],
   "source": [
    "archivo.close()"
   ]
  }
 ],
 "metadata": {
  "kernelspec": {
   "display_name": "Python 3",
   "language": "python",
   "name": "python3"
  },
  "language_info": {
   "codemirror_mode": {
    "name": "ipython",
    "version": 3
   },
   "file_extension": ".py",
   "mimetype": "text/x-python",
   "name": "python",
   "nbconvert_exporter": "python",
   "pygments_lexer": "ipython3",
   "version": "3.8.5"
  }
 },
 "nbformat": 4,
 "nbformat_minor": 4
}
