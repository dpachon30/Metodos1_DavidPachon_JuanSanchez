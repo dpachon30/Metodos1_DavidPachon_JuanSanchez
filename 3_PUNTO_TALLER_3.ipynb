{
  "nbformat": 4,
  "nbformat_minor": 0,
  "metadata": {
    "colab": {
      "provenance": []
    },
    "kernelspec": {
      "name": "python3",
      "display_name": "Python 3"
    },
    "language_info": {
      "name": "python"
    }
  },
  "cells": [
    {
      "cell_type": "code",
      "execution_count": 1,
      "metadata": {
        "colab": {
          "base_uri": "https://localhost:8080/"
        },
        "id": "q62oVB6WivF3",
        "outputId": "9f2f6d23-1b06-418c-89e8-d8e8082cf42c"
      },
      "outputs": [
        {
          "output_type": "stream",
          "name": "stdout",
          "text": [
            "[[ 4. -2.  1.]\n",
            " [20. -7. 12.]\n",
            " [-8. 13. 21.]]\n"
          ]
        }
      ],
      "source": [
        "import numpy as np\n",
        "\n",
        "A = np.array([[1,0,0],[5,1,0],[-2,3,1]])\n",
        "B = np.array([[4,-2,1],[0,3,7],[0,0,2]])\n",
        "\n",
        "def multima(a,b):\n",
        "  m_one = np.size(a, 0)\n",
        "  n_one = np.size(a, 1)\n",
        "  m_two = np.size(b, 0)\n",
        "  n_two = np.size(b, 1)\n",
        "  k1 = n_one\n",
        "  if n_one == m_two:\n",
        "    c = np.zeros([m_one,n_two])\n",
        "    for i in range(m_one):\n",
        "      for j in range(n_two):\n",
        "        entrada = 0\n",
        "        for k in range(k1):\n",
        "          #print(k)\n",
        "          entrada = entrada + (a[i][k] * b[k][j])\n",
        "        c[i][j] = entrada\n",
        "    return c\n",
        "  else:\n",
        "    return \"paila\"\n",
        "\n",
        "print(multima(A,B))        \n",
        "\n",
        "\n",
        "\n",
        "\n",
        "\n",
        "\n"
      ]
    }
  ]
}