{
  "nbformat": 4,
  "nbformat_minor": 0,
  "metadata": {
    "colab": {
      "provenance": [],
      "include_colab_link": true
    },
    "kernelspec": {
      "name": "python3",
      "display_name": "Python 3"
    },
    "language_info": {
      "name": "python"
    }
  },
  "cells": [
    {
      "cell_type": "markdown",
      "metadata": {
        "id": "view-in-github",
        "colab_type": "text"
      },
      "source": [
        "<a href=\"https://colab.research.google.com/github/dpachon30/Metodos1_DavidPachon_JuanSanchez/blob/main/Final.ipynb\" target=\"_parent\"><img src=\"https://colab.research.google.com/assets/colab-badge.svg\" alt=\"Open In Colab\"/></a>"
      ]
    },
    {
      "cell_type": "code",
      "execution_count": 45,
      "metadata": {
        "id": "p918gDq5fs8M"
      },
      "outputs": [],
      "source": [
        "import numpy as np\n",
        "import matplotlib.pyplot as plt\n",
        "from itertools import permutations\n",
        "from itertools import combinations\n",
        "from itertools import combinations_with_replacement"
      ]
    },
    {
      "cell_type": "code",
      "source": [
        "states = np.array([0,1])\n",
        "prior = np.array([0.2,0.8])\n",
        "\n",
        "\n",
        "T = np.array([[0.8,0.2],[0.2,0.8]])\n",
        "E = np.array([[0.5,0.9],[0.5,0.1,]])\n",
        "\n",
        "DictO = {\"S\":0,\"C\":1} \n",
        "\n",
        "obs = np.array([0,1,1,1,0,1,0,1])\n",
        "\n",
        "def GetHiddenStates(States, N):\n",
        "    \n",
        "    CStates = list( combinations_with_replacement(States,N) )\n",
        "    \n",
        "    Permu = []\n",
        "    \n",
        "    for it in CStates:\n",
        "        p = list(permutations(it,N))\n",
        "        \n",
        "        for i in p:\n",
        "            if i not in Permu:\n",
        "                Permu.append(i)\n",
        "    \n",
        "    #print(CStates)\n",
        "    return np.array(Permu)\n",
        "\n",
        "HiddenStates = GetHiddenStates(states,8)  \n",
        "print(len(HiddenStates))  \n",
        "print(HiddenStates[32])\n",
        "#T[2,1]"
      ],
      "metadata": {
        "id": "NzRgEFjJpDBT",
        "colab": {
          "base_uri": "https://localhost:8080/"
        },
        "outputId": "ade9db82-172e-435b-d248-f540a31596e6"
      },
      "execution_count": 46,
      "outputs": [
        {
          "output_type": "stream",
          "name": "stdout",
          "text": [
            "256\n",
            "[1 0 0 0 0 1 0 0]\n"
          ]
        }
      ]
    },
    {
      "cell_type": "code",
      "source": [
        "def GetProb(T,E,Obs,State,Prior):\n",
        "    n= len(Obs)\n",
        "    p=1\n",
        "    p*= Prior[State[0]]\n",
        "\n",
        "    for i in range(n-1):\n",
        "        p *= T[ State[i+1],State[i]]\n",
        "    #print(p,State)\n",
        "    \n",
        "    for i in range(n):\n",
        "        p *= E[ Obs[i], State[i] ]\n",
        "    \n",
        "    return p\n",
        "\n",
        "dim= len(HiddenStates)\n",
        "P= np.zeros(dim)\n",
        "\n",
        "\n",
        "\n",
        "for i in range(dim):\n",
        "    P[i]= GetProb(T,E,Obs,HiddenStates[i],prior)\n",
        "\n",
        "maxP = np.max(P)\n",
        "ii = np.where( P == np.amax(P))\n",
        "print(HiddenStates[ii],maxP)\n",
        "\n",
        "plt.plot(P,color='k')\n",
        "#plt.axhline(y=maxP)\n",
        "plt.grid()\n",
        "plt.axhline(y=maxP,color=\"r\")\n"
      ],
      "metadata": {
        "id": "C1ugiIYuunnA",
        "colab": {
          "base_uri": "https://localhost:8080/",
          "height": 304
        },
        "outputId": "6953a1c5-3bd2-4983-b3b6-e26ea7560a92"
      },
      "execution_count": 51,
      "outputs": [
        {
          "output_type": "stream",
          "name": "stdout",
          "text": [
            "[[1 1 1 1 0 0 0 0]] 0.0001911029760000001\n"
          ]
        },
        {
          "output_type": "execute_result",
          "data": {
            "text/plain": [
              "256"
            ]
          },
          "metadata": {},
          "execution_count": 51
        },
        {
          "output_type": "display_data",
          "data": {
            "text/plain": [
              "<Figure size 432x288 with 1 Axes>"
            ],
            "image/png": "[encoded data removed]"
          },
          "metadata": {
            "needs_background": "light"
          }
        }
      ]
    },
    {
      "cell_type": "code",
      "source": [
        "ObsStates = GetHiddenStates([0,1],8)\n"
      ],
      "metadata": {
        "id": "nbTSPHWO16tW"
      },
      "execution_count": 48,
      "outputs": []
    },
    {
      "cell_type": "code",
      "source": [
        "NObs = ObsStates.shape[0]\n",
        "\n",
        "PObs = np.zeros(NObs)\n",
        "\n",
        "for j in range(NObs):\n",
        "    \n",
        "    dim = HiddenStates.shape[0]\n",
        "    P = np.zeros(dim)\n",
        "    \n",
        "    for i in range(dim):\n",
        "        P[i] = GetProb(T,E,ObsStates[j],HiddenStates[i],prior)\n",
        "        \n",
        "    PObs[j] = np.sum(P)\n",
        "plt.plot(PObs)"
      ],
      "metadata": {
        "id": "nGqCwtHN2NOS",
        "colab": {
          "base_uri": "https://localhost:8080/",
          "height": 282
        },
        "outputId": "368b2e69-4da3-4cc7-e29e-129d1e63a12a"
      },
      "execution_count": 49,
      "outputs": [
        {
          "output_type": "execute_result",
          "data": {
            "text/plain": [
              "[<matplotlib.lines.Line2D at 0x7f64b9571150>]"
            ]
          },
          "metadata": {},
          "execution_count": 49
        },
        {
          "output_type": "display_data",
          "data": {
            "text/plain": [
              "<Figure size 432x288 with 1 Axes>"
            ],
            "image/png": "[encoded data removed]"
          },
          "metadata": {
            "needs_background": "light"
          }
        }
      ]
    },
    {
      "cell_type": "code",
      "source": [
        "maxP = np.max(PObs)\n",
        "ii = np.where( PObs == np.amax(PObs))\n",
        "print(ObsStates[ii],maxP)\n",
        "\n",
        "np.sum(PObs)"
      ],
      "metadata": {
        "id": "Y5mGUtic2biZ",
        "colab": {
          "base_uri": "https://localhost:8080/"
        },
        "outputId": "80b27af6-3678-408d-ab4b-e88e46a9cc9e"
      },
      "execution_count": 50,
      "outputs": [
        {
          "output_type": "stream",
          "name": "stdout",
          "text": [
            "[[0 0 0 0 0 0 0 0]] 0.13698241367042568\n"
          ]
        },
        {
          "output_type": "execute_result",
          "data": {
            "text/plain": [
              "1.0000000000000007"
            ]
          },
          "metadata": {},
          "execution_count": 50
        }
      ]
    },
    {
      "cell_type": "code",
      "source": [],
      "metadata": {
        "id": "Hbo26iFt2pMe"
      },
      "execution_count": 50,
      "outputs": []
    }
  ]
}