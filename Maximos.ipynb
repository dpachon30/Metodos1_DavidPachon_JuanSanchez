{
 "cells": [
  {
   "cell_type": "code",
   "execution_count": 7,
   "metadata": {},
   "outputs": [],
   "source": [
    "#Programa adaptado al archivo .txt de la serie de datos enlazada en el enunciado del taller\n",
    "archivo = open(\"datos.txt\")\n",
    "import matplotlib.pyplot as plt\n",
    "import numpy as np"
   ]
  },
  {
   "cell_type": "code",
   "execution_count": 8,
   "metadata": {},
   "outputs": [],
   "source": [
    "#Función que despeja el segundo valor de cada línea del archivo .txt (imagen de la función)\n",
    "def segundov(linea:str)->float:\n",
    "    c = False\n",
    "    valorst = \"\"\n",
    "    i=0\n",
    "    while c==False:\n",
    "        if linea[i]==\" \":\n",
    "            c=True\n",
    "        else:\n",
    "            i+=1\n",
    "    while c==True:\n",
    "        if linea[i]!=\" \":\n",
    "            c=False\n",
    "        else:\n",
    "            i+=1\n",
    "    t = linea[i:]\n",
    "    for a in t:\n",
    "        if a!=\" \":\n",
    "            valorst+=a\n",
    "    valor = float(valorst)\n",
    "    return valor\n",
    "\n"
   ]
  },
  {
   "cell_type": "code",
   "execution_count": 9,
   "metadata": {},
   "outputs": [],
   "source": [
    "#Agrupa los valores de la imagen de la función en una lista\n",
    "def crear_lista_valores_imagen(doc)->list:\n",
    "    lista =[]\n",
    "    for line in doc:\n",
    "        linea = str(line)\n",
    "        valor = segundov(linea)\n",
    "        lista.append(valor)\n",
    "    return lista\n",
    "\n",
    "\n",
    "    "
   ]
  },
  {
   "cell_type": "code",
   "execution_count": 10,
   "metadata": {},
   "outputs": [],
   "source": [
    "#Filtra los valores máximos locales de la lista creada con la función anterior\n",
    "def find_max(doc)->list:\n",
    "    \n",
    "    lista = crear_lista_valores_imagen(doc)\n",
    "    lista_vml = []\n",
    "    longitud = len(lista)\n",
    "    i=1\n",
    "    while i<longitud-1:\n",
    "        if lista[i]>lista[i+1] and lista[i]>lista[i-1]:\n",
    "            lista_vml.append(lista[i])\n",
    "        i+=1\n",
    "    return lista_vml"
   ]
  },
  {
   "cell_type": "code",
   "execution_count": 11,
   "metadata": {},
   "outputs": [],
   "source": [
    "#Ejecución: Los máximos locales del rango de datos se hallan en la siguiente lista \"Lista_vml\"\n",
    "Lista_vml = find_max(archivo)\n"
   ]
  },
  {
   "cell_type": "code",
   "execution_count": 12,
   "metadata": {},
   "outputs": [],
   "source": [
    "archivo.close()"
   ]
  },
  {
   "cell_type": "code",
   "execution_count": null,
   "metadata": {},
   "outputs": [],
   "source": []
  }
 ],
 "metadata": {
  "kernelspec": {
   "display_name": "Python 3",
   "language": "python",
   "name": "python3"
  },
  "language_info": {
   "codemirror_mode": {
    "name": "ipython",
    "version": 3
   },
   "file_extension": ".py",
   "mimetype": "text/x-python",
   "name": "python",
   "nbconvert_exporter": "python",
   "pygments_lexer": "ipython3",
   "version": "3.8.5"
  }
 },
 "nbformat": 4,
 "nbformat_minor": 4
}
