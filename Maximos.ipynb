{
 "cells": [
  {
   "cell_type": "code",
   "execution_count": 1,
   "metadata": {},
   "outputs": [],
   "source": [
    "#Programa adaptado al archivo .txt de la serie de datos enlazada en el enunciado del taller\n",
    "archivo = open(\"datos.txt\")"
   ]
  },
  {
   "cell_type": "code",
   "execution_count": 2,
   "metadata": {},
   "outputs": [],
   "source": [
    "#Función que despeja el segundo valor de cada línea del archivo .txt (imagen de la función)\n",
    "def segundov(linea:str)->float:\n",
    "    c = False\n",
    "    valorst = \"\"\n",
    "    i=0\n",
    "    while c==False:\n",
    "        if linea[i]==\" \":\n",
    "            c=True\n",
    "        else:\n",
    "            i+=1\n",
    "    while c==True:\n",
    "        if linea[i]!=\" \":\n",
    "            c=False\n",
    "        else:\n",
    "            i+=1\n",
    "    t = linea[i:]\n",
    "    for a in t:\n",
    "        if a!=\" \":\n",
    "            valorst+=a\n",
    "    valor = float(valorst)\n",
    "    return valor"
   ]
  },
  {
   "cell_type": "code",
   "execution_count": 3,
   "metadata": {},
   "outputs": [],
   "source": [
    "#Agrupa los valores de la imagen de la función en una lista\n",
    "def crear_lista_valores(doc)->list:\n",
    "    lista =[]\n",
    "    for line in doc:\n",
    "        linea = str(line)\n",
    "        valor = segundov(linea)\n",
    "        lista.append(valor)\n",
    "    return lista"
   ]
  },
  {
   "cell_type": "code",
   "execution_count": 4,
   "metadata": {},
   "outputs": [],
   "source": [
    "#Filtra los valores máximos locales de la lista creada con la función anterior\n",
    "def find_max(doc)->list:\n",
    "    \n",
    "    lista = crear_lista_valores(doc)\n",
    "    lista_vml = []\n",
    "    longitud = len(lista)\n",
    "    i=1\n",
    "    while i<longitud-1:\n",
    "        if lista[i]>lista[i+1] and lista[i]>lista[i-1]:\n",
    "            lista_vml.append(lista[i])\n",
    "        i+=1\n",
    "    return lista_vml"
   ]
  },
  {
   "cell_type": "code",
   "execution_count": 5,
   "metadata": {},
   "outputs": [],
   "source": [
    "#Ejecución: Los máximos locales del rango de datos se hallan en la siguiente lista \"Lista_vml\"\n",
    "Lista_vml = find_max(archivo)\n",
    "#print(Lista_vml) (opcional)"
   ]
  },
  {
   "cell_type": "code",
   "execution_count": 6,
   "metadata": {},
   "outputs": [],
   "source": [
    "archivo.close()"
   ]
  }
 ],
 "metadata": {
  "kernelspec": {
   "display_name": "Python 3",
   "language": "python",
   "name": "python3"
  },
  "language_info": {
   "codemirror_mode": {
    "name": "ipython",
    "version": 3
   },
   "file_extension": ".py",
   "mimetype": "text/x-python",
   "name": "python",
   "nbconvert_exporter": "python",
   "pygments_lexer": "ipython3",
   "version": "3.8.5"
  }
 },
 "nbformat": 4,
 "nbformat_minor": 4
}
