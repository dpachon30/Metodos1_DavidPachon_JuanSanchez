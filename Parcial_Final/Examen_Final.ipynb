{
  "nbformat": 4,
  "nbformat_minor": 0,
  "metadata": {
    "colab": {
      "provenance": []
    },
    "kernelspec": {
      "name": "python3",
      "display_name": "Python 3"
    },
    "language_info": {
      "name": "python"
    }
  },
  "cells": [
    {
      "cell_type": "code",
      "execution_count": 31,
      "metadata": {
        "id": "p918gDq5fs8M"
      },
      "outputs": [],
      "source": [
        "import numpy as np\n",
        "import matplotlib.pyplot as plt\n",
        "from itertools import permutations\n",
        "from itertools import combinations\n",
        "from itertools import combinations_with_replacement"
      ]
    },
    {
      "cell_type": "code",
      "source": [
        "states = np.array([0,1])\n",
        "prior = np.array([0.2,0.8])\n",
        "\n",
        "\n",
        "T = np.array([[0.8,0.2],[0.2,0.8]])\n",
        "E = np.array([[0.5,0.9],[0.5,0.1,]])\n",
        "\n",
        "DictO = {\"C\":0,\"S\":1} \n",
        "\n",
        "#Obs = np.array([0,1,1,1,0,1,0,1])\n",
        "Obs= np.array([1,0,0,0,1,0,1,0])# 0 Cara, 1 Sello\n",
        "\n",
        "def GetHiddenStates(States, N):\n",
        "    \n",
        "    CStates = list( combinations_with_replacement(States,N) )\n",
        "    \n",
        "    Permu = []\n",
        "    \n",
        "    for it in CStates:\n",
        "        p = list(permutations(it,N))\n",
        "        \n",
        "        for i in p:\n",
        "            if i not in Permu:\n",
        "                Permu.append(i)\n",
        "    \n",
        "    #print(CStates)\n",
        "    return np.array(Permu)\n",
        "\n",
        "HiddenStates = GetHiddenStates(states,8)  \n",
        "print(len(HiddenStates))  \n",
        "print(HiddenStates[32])\n",
        "#T[2,1]"
      ],
      "metadata": {
        "id": "NzRgEFjJpDBT",
        "colab": {
          "base_uri": "https://localhost:8080/"
        },
        "outputId": "d483a8b5-40ec-46e2-c345-cfa3ea737071"
      },
      "execution_count": 32,
      "outputs": [
        {
          "output_type": "stream",
          "name": "stdout",
          "text": [
            "256\n",
            "[1 0 0 0 0 1 0 0]\n"
          ]
        }
      ]
    },
    {
      "cell_type": "code",
      "source": [
        "def GetProb(T,E,Obs,State,Prior):\n",
        "    n= len(Obs)\n",
        "    p=1\n",
        "    p*= Prior[State[0]]\n",
        "\n",
        "    for i in range(n-1):\n",
        "        p *= T[ State[i+1],State[i]]\n",
        "    #print(p,State)\n",
        "    \n",
        "    for i in range(n):\n",
        "        p *= E[ Obs[i], State[i] ]\n",
        "    \n",
        "    return p\n",
        "\n",
        "dim= len(HiddenStates)\n",
        "P= np.zeros(dim)\n",
        "\n",
        "\n",
        "\n",
        "for i in range(dim):\n",
        "    P[i]= GetProb(T,E,Obs,HiddenStates[i],prior)\n",
        "\n",
        "maxP = np.max(P)\n",
        "ii = np.where( P == np.amax(P))\n",
        "print(\"El estado oculto mas probable es\",HiddenStates[ii],\"pues este tiene una probabilidad de\",maxP)\n",
        "\n",
        "\n",
        "plt.plot(P,color='k')\n",
        "#plt.axhline(y=maxP)\n",
        "plt.grid()\n",
        "plt.axhline(y=maxP,color=\"r\")\n"
      ],
      "metadata": {
        "id": "C1ugiIYuunnA",
        "colab": {
          "base_uri": "https://localhost:8080/",
          "height": 305
        },
        "outputId": "46593fa7-2061-4a5a-d3e6-84676574444f"
      },
      "execution_count": 33,
      "outputs": [
        {
          "output_type": "stream",
          "name": "stdout",
          "text": [
            "El estado oculto mas probable es [[1 1 1 1 0 0 0 0]] pues este tiene una probabilidad de 0.0001911029760000001\n"
          ]
        },
        {
          "output_type": "execute_result",
          "data": {
            "text/plain": [
              "<matplotlib.lines.Line2D at 0x7fbec30e2650>"
            ]
          },
          "metadata": {},
          "execution_count": 33
        },
        {
          "output_type": "display_data",
          "data": {
            "text/plain": [
              "<Figure size 432x288 with 1 Axes>"
            ],
            "image/png": "[encoded data removed]"
          },
          "metadata": {
            "needs_background": "light"
          }
        }
      ]
    },
    {
      "cell_type": "code",
      "source": [
        "ObsStates = GetHiddenStates([0,1],8)\n"
      ],
      "metadata": {
        "id": "nbTSPHWO16tW"
      },
      "execution_count": 34,
      "outputs": []
    },
    {
      "cell_type": "code",
      "source": [
        "NObs = ObsStates.shape[0]\n",
        "\n",
        "PObs = np.zeros(NObs)\n",
        "\n",
        "for j in range(NObs):\n",
        "    \n",
        "    dim = HiddenStates.shape[0]\n",
        "    P = np.zeros(dim)\n",
        "    \n",
        "    for i in range(dim):\n",
        "        P[i] = GetProb(T,E,ObsStates[j],HiddenStates[i],prior)\n",
        "        \n",
        "    PObs[j] = np.sum(P)\n",
        "plt.plot(PObs)"
      ],
      "metadata": {
        "id": "nGqCwtHN2NOS",
        "colab": {
          "base_uri": "https://localhost:8080/",
          "height": 283
        },
        "outputId": "76168dbc-8797-4c59-82e6-2cf2e573846b"
      },
      "execution_count": 35,
      "outputs": [
        {
          "output_type": "execute_result",
          "data": {
            "text/plain": [
              "[<matplotlib.lines.Line2D at 0x7fbec2ee6250>]"
            ]
          },
          "metadata": {},
          "execution_count": 35
        },
        {
          "output_type": "display_data",
          "data": {
            "text/plain": [
              "<Figure size 432x288 with 1 Axes>"
            ],
            "image/png": "[encoded data removed]"
          },
          "metadata": {
            "needs_background": "light"
          }
        }
      ]
    },
    {
      "cell_type": "code",
      "source": [
        "maxP = np.max(PObs)\n",
        "ii = np.where( PObs == np.amax(PObs))\n",
        "print(ObsStates[ii],maxP)\n",
        "\n",
        "print(\"La suma de todos los estados observables es:\")\n",
        "np.sum(PObs)"
      ],
      "metadata": {
        "id": "Y5mGUtic2biZ",
        "colab": {
          "base_uri": "https://localhost:8080/"
        },
        "outputId": "1550b01b-954d-49aa-f4fe-bd28acdf9563"
      },
      "execution_count": 36,
      "outputs": [
        {
          "output_type": "stream",
          "name": "stdout",
          "text": [
            "[[0 0 0 0 0 0 0 0]] 0.13698241367042568\n",
            "La suma de todos los estados observables es:\n"
          ]
        },
        {
          "output_type": "execute_result",
          "data": {
            "text/plain": [
              "1.0000000000000007"
            ]
          },
          "metadata": {},
          "execution_count": 36
        }
      ]
    },
    {
      "cell_type": "code",
      "source": [
        "print(\"e:\")\n",
        "print(\"Si cambiamos el prior cambian tanto las probabilidades de los estados ocultos como de los observables.\")\n",
        "print(\"Eso si, la suma de los observables sigue dando uno si los valores componentes del prior dan 1 en su suma.\")\n",
        "print(\"Mostraremos a continuacion las graficas y valores que nos dan si cambiamos el prior.\")"
      ],
      "metadata": {
        "id": "Hbo26iFt2pMe",
        "colab": {
          "base_uri": "https://localhost:8080/"
        },
        "outputId": "9e1edea3-aee3-4969-c81a-df47cb83359a"
      },
      "execution_count": 37,
      "outputs": [
        {
          "output_type": "stream",
          "name": "stdout",
          "text": [
            "e:\n",
            "Si cambiamos el prior cambian tanto las probabilidades de los estados ocultos como de los observables.\n",
            "Eso si, la suma de los observables sigue dando uno si los valores componentes del prior dan 1 en su suma.\n",
            "Mostraremos a continuacion las graficas y valores que nos dan si cambiamos el prior.\n"
          ]
        }
      ]
    },
    {
      "cell_type": "code",
      "source": [
        "prior = np.array([0.5,0.5])\n",
        "for i in range(dim):\n",
        "    P[i]= GetProb(T,E,Obs,HiddenStates[i],prior)\n",
        "\n",
        "maxP = np.max(P)\n",
        "ii = np.where( P == np.amax(P))\n",
        "print(\"El estado oculto mas probable es\",HiddenStates[ii],\"pues este tiene una probabilidad de\",maxP)\n",
        "\n",
        "\n",
        "plt.plot(P,color='k')\n",
        "#plt.axhline(y=maxP)\n",
        "plt.grid()\n",
        "plt.axhline(y=maxP,color=\"r\")\n"
      ],
      "metadata": {
        "colab": {
          "base_uri": "https://localhost:8080/",
          "height": 301
        },
        "id": "TqehM7JBn3tW",
        "outputId": "5710c903-5d94-4db5-cb30-36e5cde9c06e"
      },
      "execution_count": 38,
      "outputs": [
        {
          "output_type": "stream",
          "name": "stdout",
          "text": [
            "El estado oculto mas probable es [[0 0 0 0 0 0 0 0]] pues este tiene una probabilidad de 0.0004096000000000002\n"
          ]
        },
        {
          "output_type": "execute_result",
          "data": {
            "text/plain": [
              "<matplotlib.lines.Line2D at 0x7fbec31273d0>"
            ]
          },
          "metadata": {},
          "execution_count": 38
        },
        {
          "output_type": "display_data",
          "data": {
            "text/plain": [
              "<Figure size 432x288 with 1 Axes>"
            ],
            "image/png": "[encoded data removed]"
          },
          "metadata": {
            "needs_background": "light"
          }
        }
      ]
    },
    {
      "cell_type": "code",
      "source": [
        "ObsStates = GetHiddenStates([0,1],8)\n",
        "NObs = ObsStates.shape[0]\n",
        "\n",
        "PObs = np.zeros(NObs)\n",
        "\n",
        "for j in range(NObs):\n",
        "    \n",
        "    dim = HiddenStates.shape[0]\n",
        "    P = np.zeros(dim)\n",
        "    \n",
        "    for i in range(dim):\n",
        "        P[i] = GetProb(T,E,ObsStates[j],HiddenStates[i],prior)\n",
        "        \n",
        "    PObs[j] = np.sum(P)\n",
        "plt.plot(PObs)"
      ],
      "metadata": {
        "colab": {
          "base_uri": "https://localhost:8080/",
          "height": 283
        },
        "id": "wg-H3GpgotwE",
        "outputId": "f70c295b-5afc-4b03-af98-6983dfe62033"
      },
      "execution_count": 39,
      "outputs": [
        {
          "output_type": "execute_result",
          "data": {
            "text/plain": [
              "[<matplotlib.lines.Line2D at 0x7fbec3178310>]"
            ]
          },
          "metadata": {},
          "execution_count": 39
        },
        {
          "output_type": "display_data",
          "data": {
            "text/plain": [
              "<Figure size 432x288 with 1 Axes>"
            ],
            "image/png": "[encoded data removed]"
          },
          "metadata": {
            "needs_background": "light"
          }
        }
      ]
    },
    {
      "cell_type": "code",
      "source": [
        "maxP = np.max(PObs)\n",
        "ii = np.where( PObs == np.amax(PObs))\n",
        "print(ObsStates[ii],maxP)\n",
        "\n",
        "print(\"La suma de todos los estados observables es con este nuevo prior aun:\")\n",
        "np.sum(PObs)"
      ],
      "metadata": {
        "colab": {
          "base_uri": "https://localhost:8080/"
        },
        "id": "B_4F9F6EpFpB",
        "outputId": "01a233fd-606f-4a7b-83d4-8e4d383c0c7b"
      },
      "execution_count": 40,
      "outputs": [
        {
          "output_type": "stream",
          "name": "stdout",
          "text": [
            "[[0 0 0 0 0 0 0 0]] 0.10197834735577609\n",
            "La suma de todos los estados observables es con este nuevo prior aun:\n"
          ]
        },
        {
          "output_type": "execute_result",
          "data": {
            "text/plain": [
              "1.0000000000000007"
            ]
          },
          "metadata": {},
          "execution_count": 40
        }
      ]
    }
  ]
}