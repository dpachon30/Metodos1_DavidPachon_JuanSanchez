{
 "cells": [
  {
   "cell_type": "code",
   "execution_count": 480,
   "metadata": {},
   "outputs": [],
   "source": [
    "#Programa adaptado al archivo .txt de la serie de datos enlazada en el enunciado del taller1\n",
    "#El archivo .txt se debe encontrar en el mismo directorio del presente jupyter notebook\n",
    "import matplotlib.pyplot as plt\n",
    "import numpy as np\n",
    "archivo = open(\"datos.txt\")"
   ]
  },
  {
   "cell_type": "code",
   "execution_count": 481,
   "metadata": {},
   "outputs": [],
   "source": [
    "#Función que despeja el primer valor de cada línea del archivo .txt (preimagen de la función)\n",
    "def primerv(linea:str)->float:\n",
    "    c = False\n",
    "    valorst = \"\"\n",
    "    i=0\n",
    "    while c==False:\n",
    "        if linea[i]==\" \":\n",
    "            c=True\n",
    "        else:\n",
    "            valorst+=linea[i]\n",
    "        i+=1\n",
    "    valor = float(valorst)\n",
    "    return valor\n",
    "\n",
    "#Función que despeja el segundo valor de cada línea del archivo .txt (imagen de la función)\n",
    "def segundov(linea:str)->float:\n",
    "    c = False\n",
    "    valorst = \"\"\n",
    "    i=0\n",
    "    while c==False:\n",
    "        if linea[i]==\" \":\n",
    "            c=True\n",
    "        else:\n",
    "            i+=1\n",
    "    while c==True:\n",
    "        if linea[i]!=\" \":\n",
    "            c=False\n",
    "        else:\n",
    "            i+=1\n",
    "    t = linea[i:]\n",
    "    for a in t:\n",
    "        if a!=\" \":\n",
    "            valorst+=a\n",
    "    valor = float(valorst)\n",
    "    return valor\n"
   ]
  },
  {
   "cell_type": "code",
   "execution_count": 482,
   "metadata": {},
   "outputs": [],
   "source": [
    "#Función para crear: 1) array con todos los datos de la serie, 2)array con los datos de máximos locales de la serie\n",
    "#'Si': datos de la serie para la variable i\n",
    "#'MLSi': datos de los máximos locales de la serie para la variable i\n",
    "#La función retorna una tupla que contiene, en su primera posición [0], el array de todos los datos de la --\n",
    "# --serie y, en su segunda posición, el array de los datos de máximos locales en la serie\n",
    "def crear_matrices_v(doc)->tuple:\n",
    "    #Se crea el array de todos los datos de la seire\n",
    "    listaSx =[]\n",
    "    listaSy = []\n",
    "    for line in doc:\n",
    "        linea = str(line)\n",
    "        listaSx.append(primerv(linea))\n",
    "        #print(linea)\n",
    "        listaSy.append(segundov(linea))\n",
    "    \n",
    "    lon = len(listaSx)-1\n",
    "    i = 0\n",
    "    MatrizS = np.zeros((lon+1,2))\n",
    "    while i<=lon:\n",
    "        MatrizS[i,0]=listaSx[i]\n",
    "        MatrizS[i,1]=listaSy[i]\n",
    "        i+=1\n",
    "    \n",
    "    \n",
    "    #Se crea el array de solo los máximos locales de la serie\n",
    "    listaMLSx = []\n",
    "    listaMLSy = []\n",
    "    i=1\n",
    "    while i<lon-1:\n",
    "        if listaSy[i]>listaSy[i+1] and listaSy[i]>listaSy[i-1]:\n",
    "            listaMLSx.append(listaSx[i])\n",
    "            listaMLSy.append(listaSy[i])\n",
    "        i+=1\n",
    "    \n",
    "    lon = len(listaMLSx)-1\n",
    "    i = 0\n",
    "    MatrizMLS = np.zeros((lon+1,2))\n",
    "    while i<=lon:\n",
    "        MatrizMLS[i,0]=listaMLSx[i]\n",
    "        MatrizMLS[i,1]=listaMLSy[i]\n",
    "        i+=1\n",
    "    \n",
    "    tupla = MatrizS,MatrizMLS\n",
    "    return tupla\n"
   ]
  },
  {
   "cell_type": "code",
   "execution_count": 483,
   "metadata": {},
   "outputs": [
    {
     "data": {
      "text/plain": [
       "array([[3.34767668, 1.036267  ],\n",
       "       [3.35919183, 1.03554   ],\n",
       "       [3.37070698, 1.024369  ],\n",
       "       [3.38222214, 1.045406  ],\n",
       "       [3.39373729, 1.012803  ],\n",
       "       [3.40525244, 1.030349  ],\n",
       "       [3.41676759, 1.015571  ],\n",
       "       [3.42828274, 1.035833  ],\n",
       "       [3.43979789, 1.017348  ],\n",
       "       [3.45131305, 1.02287   ],\n",
       "       [3.46666658, 1.013802  ],\n",
       "       [3.50505042, 1.020233  ],\n",
       "       [3.52424234, 1.034254  ],\n",
       "       [3.53575749, 1.02666   ],\n",
       "       [3.55111102, 1.014296  ],\n",
       "       [3.56262618, 1.024395  ],\n",
       "       [3.58949486, 1.040716  ],\n",
       "       [3.62020193, 1.027063  ],\n",
       "       [3.63171708, 1.039316  ],\n",
       "       [3.64323224, 1.060527  ],\n",
       "       [3.67393931, 1.051431  ],\n",
       "       [3.70464638, 1.089617  ],\n",
       "       [3.7238383 , 1.330906  ],\n",
       "       [3.7468686 , 1.032746  ],\n",
       "       [3.77757567, 1.031765  ],\n",
       "       [3.78909082, 1.068328  ],\n",
       "       [3.80444436, 1.102898  ],\n",
       "       [3.82363628, 1.064289  ],\n",
       "       [3.85434335, 1.040364  ],\n",
       "       [3.86969688, 1.079907  ],\n",
       "       [3.88505042, 1.000827  ],\n",
       "       [3.90040395, 1.089922  ],\n",
       "       [3.92727264, 1.030706  ],\n",
       "       [3.93494941, 1.025699  ],\n",
       "       [3.95030294, 0.9971942 ],\n",
       "       [3.97333325, 1.008569  ],\n",
       "       [3.99636355, 1.041762  ],\n",
       "       [4.0078787 , 1.028908  ],\n",
       "       [4.01939385, 1.029255  ],\n",
       "       [4.03858577, 1.147828  ],\n",
       "       [4.06929284, 1.657519  ]])"
      ]
     },
     "execution_count": 483,
     "metadata": {},
     "output_type": "execute_result"
    },
    {
     "data": {
      "image/png": "[encoded data removed]",
      "text/plain": [
       "<Figure size 432x288 with 1 Axes>"
      ]
     },
     "metadata": {
      "needs_background": "light"
     },
     "output_type": "display_data"
    }
   ],
   "source": [
    "#Ejecución\n",
    "\n",
    "Data = crear_matrices_v(archivo)\n",
    "DatosS = Data[0] \n",
    "DatosMLS = Data[1]\n",
    "\n",
    "\n",
    "plt.plot(DatosS[:,0],DatosS[:,1],color='g')\n",
    "plt.scatter(DatosMLS[:,0],DatosMLS[:,1], color='r')\n",
    "\n",
    "#Opcional\n",
    "#En caso de querer visualizar los datos de máximos locales, el siguiente comando (eliminando el \"#\") retorna el --\n",
    "#-- array de los máximos locales de la serie:\n",
    "\n",
    "#DatosMLS\n",
    "    "
   ]
  }
 ],
 "metadata": {
  "kernelspec": {
   "display_name": "Python 3",
   "language": "python",
   "name": "python3"
  },
  "language_info": {
   "codemirror_mode": {
    "name": "ipython",
    "version": 3
   },
   "file_extension": ".py",
   "mimetype": "text/x-python",
   "name": "python",
   "nbconvert_exporter": "python",
   "pygments_lexer": "ipython3",
   "version": "3.8.5"
  }
 },
 "nbformat": 4,
 "nbformat_minor": 4
}
