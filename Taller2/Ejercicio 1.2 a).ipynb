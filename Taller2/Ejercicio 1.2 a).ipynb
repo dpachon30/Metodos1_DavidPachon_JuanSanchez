{
 "cells": [
  {
   "cell_type": "code",
   "execution_count": 1,
   "metadata": {},
   "outputs": [
    {
     "data": {
      "text/plain": [
       "[<matplotlib.lines.Line2D at 0x7fb710c87580>]"
      ]
     },
     "execution_count": 1,
     "metadata": {},
     "output_type": "execute_result"
    },
    {
     "data": {
      "image/png": "[encoded data removed]",
      "text/plain": [
       "<Figure size 432x288 with 1 Axes>"
      ]
     },
     "metadata": {
      "needs_background": "light"
     },
     "output_type": "display_data"
    }
   ],
   "source": [
    "import numpy as np\n",
    "import matplotlib.pyplot as plt\n",
    "from matplotlib import rc\n",
    "import sympy as sym\n",
    "\n",
    "\n",
    "x = sym.Symbol('x',Real=True)\n",
    "func = 1/(1+sym.exp(-x**2))**(1/2)\n",
    "f= sym.lambdify([x],func,'numpy')\n",
    "\n",
    "x = np.linspace(-10,10,4000)\n",
    "y = f(x)\n",
    "\n",
    "#grafica de la funcion en la linea de abajo\n",
    "#plt.plot(x,y)\n",
    "\n",
    "\n",
    "# 20 / 0.05 = 400\n",
    "\n",
    "h  = 0.05\n",
    "\n",
    " \n",
    "\n",
    "def DerivativeC(x,f,h):\n",
    "    return (f(x+h)-f(x-h))/(2*h)\n",
    "\n",
    "DerivadaC = DerivativeC(x,f,h)\n",
    "\n",
    "plt.plot(x,DerivadaC,\"orange\")"
   ]
  },
  {
   "cell_type": "code",
   "execution_count": null,
   "metadata": {},
   "outputs": [],
   "source": []
  }
 ],
 "metadata": {
  "kernelspec": {
   "display_name": "Python 3",
   "language": "python",
   "name": "python3"
  },
  "language_info": {
   "codemirror_mode": {
    "name": "ipython",
    "version": 3
   },
   "file_extension": ".py",
   "mimetype": "text/x-python",
   "name": "python",
   "nbconvert_exporter": "python",
   "pygments_lexer": "ipython3",
   "version": "3.8.5"
  }
 },
 "nbformat": 4,
 "nbformat_minor": 4
}
