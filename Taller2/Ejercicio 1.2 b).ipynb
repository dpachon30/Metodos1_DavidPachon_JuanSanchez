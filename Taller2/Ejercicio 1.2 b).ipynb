{
 "cells": [
  {
   "cell_type": "code",
   "execution_count": 4,
   "metadata": {},
   "outputs": [
    {
     "data": {
      "image/png": "[encoded data removed]",
      "text/plain": [
       "<Figure size 432x288 with 1 Axes>"
      ]
     },
     "metadata": {
      "needs_background": "light"
     },
     "output_type": "display_data"
    },
    {
     "data": {
      "text/plain": [
       "'\\n \"Forma alternativa(al abs()):\"\\n \\n \\nr = []\\nfor i in range(len(yt)):\\n    \\n    if yt[i]<=DerivadaC[i]:\\n        a=DerivadaC[i] - yt[i]\\n        r.append(a)\\n        \\n    elif yt[i]>=DerivadaC[i]:\\n        a=  yt[i] - DerivadaC[i] \\n        r.append(a)    \\n        \\n    else:\\n        r.append(yt[i])\\nprint(len(r))\\nplt.plot(x,r,\"b\")   '"
      ]
     },
     "execution_count": 4,
     "metadata": {},
     "output_type": "execute_result"
    }
   ],
   "source": [
    "import numpy as np\n",
    "import matplotlib.pyplot as plt\n",
    "from matplotlib import rc\n",
    "import sympy as sym\n",
    "\n",
    "\n",
    "CP = 400\n",
    "\n",
    "x = sym.Symbol('x',Real=True)\n",
    "eax = sym.exp(-x**2)\n",
    "func = (x*sym.exp(-x**2)) / (1+sym.exp(-x**2))**(3/2)\n",
    "f= sym.lambdify([x],func,'numpy')\n",
    "\n",
    "x = np.linspace(-10,10,CP)\n",
    "yt = f(x)\n",
    "\n",
    "#grafica derivada teorica\n",
    "#plt.plot(x,yt)\n",
    "\n",
    "h  = 0.05\n",
    "\n",
    "\n",
    "\n",
    "x = sym.Symbol('x',Real=True)\n",
    "func = 1/(1+sym.exp(-x**2))**(1/2)\n",
    "f= sym.lambdify([x],func,'numpy')\n",
    "\n",
    "x = np.linspace(-10,10,CP)\n",
    "y = f(x)\n",
    "\n",
    "\n",
    " \n",
    "\n",
    "def DerivativeC(x,f,h):\n",
    "    return (f(x+h)-f(x-h))/(2*h)\n",
    "\n",
    "DerivadaC = DerivativeC(x,f,h)\n",
    "\n",
    "\n",
    "\n",
    "\n",
    "\n",
    "y_error = abs(DerivadaC - yt)\n",
    "#print(DerivadaC,yt,y_error)\n",
    "plt.xlabel('x')\n",
    "plt.ylabel('error')\n",
    "plt.plot(x,y_error,\"y\",label='error') \n",
    "plt.legend(loc=\"upper left\")\n",
    "plt.suptitle('Proyección de error', fontsize=12)\n",
    "plt.show()\n",
    "\n",
    "\n",
    "\n",
    "\"\"\"\n",
    " \"Forma alternativa(al abs()):\"\n",
    " \n",
    " \n",
    "r = []\n",
    "for i in range(len(yt)):\n",
    "    \n",
    "    if yt[i]<=DerivadaC[i]:\n",
    "        a=DerivadaC[i] - yt[i]\n",
    "        r.append(a)\n",
    "        \n",
    "    elif yt[i]>=DerivadaC[i]:\n",
    "        a=  yt[i] - DerivadaC[i] \n",
    "        r.append(a)    \n",
    "        \n",
    "    else:\n",
    "        r.append(yt[i])\n",
    "print(len(r))\n",
    "plt.plot(x,r,\"b\")   \"\"\"         \n",
    "            "
   ]
  },
  {
   "cell_type": "code",
   "execution_count": null,
   "metadata": {},
   "outputs": [],
   "source": []
  }
 ],
 "metadata": {
  "kernelspec": {
   "display_name": "Python 3",
   "language": "python",
   "name": "python3"
  },
  "language_info": {
   "codemirror_mode": {
    "name": "ipython",
    "version": 3
   },
   "file_extension": ".py",
   "mimetype": "text/x-python",
   "name": "python",
   "nbconvert_exporter": "python",
   "pygments_lexer": "ipython3",
   "version": "3.8.5"
  }
 },
 "nbformat": 4,
 "nbformat_minor": 4
}
