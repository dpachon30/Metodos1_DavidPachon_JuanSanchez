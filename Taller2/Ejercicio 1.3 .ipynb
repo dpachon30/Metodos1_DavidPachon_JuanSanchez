{
 "cells": [
  {
   "cell_type": "code",
   "execution_count": 1,
   "metadata": {},
   "outputs": [
    {
     "data": {
      "text/plain": [
       "[<matplotlib.lines.Line2D at 0x7f9626c84ee0>]"
      ]
     },
     "execution_count": 1,
     "metadata": {},
     "output_type": "execute_result"
    },
    {
     "data": {
      "image/png": "[encoded data removed]",
      "text/plain": [
       "<Figure size 432x288 with 1 Axes>"
      ]
     },
     "metadata": {
      "needs_background": "light"
     },
     "output_type": "display_data"
    }
   ],
   "source": [
    "import numpy as np\n",
    "import matplotlib.pyplot as plt\n",
    "from matplotlib import rc\n",
    "import sympy as sym\n",
    "\n",
    "\n",
    "x = sym.Symbol('x',Real=True)\n",
    "\n",
    "func = 1/(1+sym.exp(-x**2))**(1/2)\n",
    "f= sym.lambdify([x],func,'numpy')\n",
    "\n",
    "\n",
    "x = np.linspace(-10,10,402)\n",
    "y = f(x)\n",
    "\n",
    "#grafica de la funcion sin derivar linea de abajo\n",
    "#plt.plot(x,y)\n",
    "\n",
    "h  = 0.05\n",
    "\n",
    "\"\"\"\n",
    "mascara de convolucion\n",
    "M = [1,0,-1] \n",
    "M = [-1,0,1 ]   \n",
    "\"forma correcta\"\n",
    "\"\"\"\n",
    "  \n",
    "\n",
    "\n",
    "\n",
    "def convolucion_discreta(y):\n",
    "    puntos=[0]\n",
    "    c1 = 0\n",
    "    c3 = 2\n",
    "    while (c1+3) <= len(y): \n",
    "        \n",
    "        \n",
    "        vu1= y[c1]\n",
    "        vu3= y[c3]\n",
    "        vpd = -vu1 + vu3\n",
    "        vpd = vpd *  (1/(2*h))\n",
    "        \n",
    "        puntos.append(vpd) \n",
    "\n",
    "        c1 +=1\n",
    "        c3 +=1\n",
    "    puntos.append(0)    \n",
    "    return puntos\n",
    "\n",
    "Dy = convolucion_discreta(y)\n",
    "plt.plot(x,Dy)\n",
    "\n",
    "#print(Dy)  "
   ]
  },
  {
   "cell_type": "code",
   "execution_count": null,
   "metadata": {},
   "outputs": [],
   "source": []
  }
 ],
 "metadata": {
  "kernelspec": {
   "display_name": "Python 3",
   "language": "python",
   "name": "python3"
  },
  "language_info": {
   "codemirror_mode": {
    "name": "ipython",
    "version": 3
   },
   "file_extension": ".py",
   "mimetype": "text/x-python",
   "name": "python",
   "nbconvert_exporter": "python",
   "pygments_lexer": "ipython3",
   "version": "3.8.5"
  }
 },
 "nbformat": 4,
 "nbformat_minor": 4
}
