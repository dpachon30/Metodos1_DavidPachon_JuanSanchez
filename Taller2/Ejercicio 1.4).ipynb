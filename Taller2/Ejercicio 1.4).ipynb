{
 "cells": [
  {
   "cell_type": "code",
   "execution_count": 11,
   "metadata": {},
   "outputs": [
    {
     "name": "stdout",
     "output_type": "stream",
     "text": [
      "-0.055865921787709105\n",
      "180\n"
     ]
    },
    {
     "data": {
      "image/png": "[encoded data removed]",
      "text/plain": [
       "<Figure size 432x288 with 1 Axes>"
      ]
     },
     "metadata": {
      "needs_background": "light"
     },
     "output_type": "display_data"
    }
   ],
   "source": [
    "import numpy as np\n",
    "import matplotlib.pyplot as plt\n",
    "x= np.linspace(-5,5,180)\n",
    "h= x[0] - x[1]\n",
    "#Valor de discretización\n",
    "print(h)\n",
    "function_exp= lambda x: (1/((1+np.e**-(x**2))**(1/2)))\n",
    "\n",
    "Máscara=[1,-2,1]\n",
    "\n",
    "def Derivative2(x,f,h):\n",
    "    return (f(x+h)-(2*f(x))+f(x-h))/h**2\n",
    "\n",
    "def Kernel_derivative2(x,M,h,f):\n",
    "    matr=[]\n",
    "    a=0\n",
    "    for a in range(0,len(x)):\n",
    "       \n",
    "        if a < len(x)-1:\n",
    "            value1=M[0]*f(x[a+1])\n",
    "        else:\n",
    "            value1=M[0]*f(x[0])\n",
    "           \n",
    "        value2=M[1]*f(x[a])\n",
    "        value3=M[0]*f(x[a-1])\n",
    "        sum_=value1+value2+value3\n",
    "        derivative_value=(1/(h**2))*sum_\n",
    "        matr.append(derivative_value)\n",
    "       \n",
    "       \n",
    "    print(len(x))    \n",
    "    plt.scatter(x,matr,color='g')\n",
    "   \n",
    "    return matr\n",
    "\n",
    "#Gráficos generados\n",
    "\n",
    "#Derivada obtenida mediante gráfica\n",
    "derivative1=Kernel_derivative2(x,Máscara,h, function_exp)\n",
    "\n",
    "plt.scatter(x,derivative1,color=\"b\")\n",
    "\n",
    "#Derivada obtenida a partir de la máscara\n",
    "derivative2=Derivative2(x, function_exp, h)\n",
    "\n",
    "#plt.scatter(x,derivative2,color='r')"
   ]
  },
  {
   "cell_type": "code",
   "execution_count": null,
   "metadata": {},
   "outputs": [],
   "source": []
  }
 ],
 "metadata": {
  "kernelspec": {
   "display_name": "Python 3",
   "language": "python",
   "name": "python3"
  },
  "language_info": {
   "codemirror_mode": {
    "name": "ipython",
    "version": 3
   },
   "file_extension": ".py",
   "mimetype": "text/x-python",
   "name": "python",
   "nbconvert_exporter": "python",
   "pygments_lexer": "ipython3",
   "version": "3.8.5"
  }
 },
 "nbformat": 4,
 "nbformat_minor": 4
}
