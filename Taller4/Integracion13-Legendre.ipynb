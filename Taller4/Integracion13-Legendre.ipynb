{
 "cells": [
  {
   "cell_type": "code",
   "execution_count": 834,
   "metadata": {},
   "outputs": [],
   "source": [
    "import sympy as sym\n",
    "import numpy as np"
   ]
  },
  {
   "cell_type": "code",
   "execution_count": 835,
   "metadata": {},
   "outputs": [],
   "source": [
    "#Función suministrada en el enunciado\n",
    "def f(x):\n",
    "    \n",
    "    a = 3+ 5*x+ x**2\n",
    "    \n",
    "    return a"
   ]
  },
  {
   "cell_type": "code",
   "execution_count": 836,
   "metadata": {},
   "outputs": [],
   "source": [
    "#Esta función es utilizada para calcular los coeficientes\n",
    "#para el polinomio\n",
    "def Legendre_coef(x,f,n):\n",
    "    \n",
    "    a = f(x)\n",
    "    \n",
    "    b = GetLegendre(n,x)\n",
    "    \n",
    "    return a*b"
   ]
  },
  {
   "cell_type": "code",
   "execution_count": 837,
   "metadata": {},
   "outputs": [],
   "source": [
    "#Función para calcular los polinomios de lagendre\n",
    "def GetLegendre(n,x):\n",
    "    \n",
    "    y = (x**2-1)**n\n",
    "    \n",
    "    p = sym.diff(y,x,n)/(2**n * np.math.factorial(n))\n",
    "    \n",
    "    return p"
   ]
  },
  {
   "cell_type": "code",
   "execution_count": 838,
   "metadata": {},
   "outputs": [],
   "source": [
    "def GetPolynomial(f,n):\n",
    "    \n",
    "    poly = 0\n",
    "    \n",
    "    coef = []\n",
    "    \n",
    "    for i in range(n+1):\n",
    "        \n",
    "        x = sym.Symbol(\"x\")\n",
    "        \n",
    "        integral = sym.integrate(Legendre_coef(x,f,i), (x, -1, 1))\n",
    "        \n",
    "        term = ((2*i+1)/2)*integral\n",
    "        \n",
    "        coef.append(term)\n",
    "        \n",
    "        poly += term*GetLegendre(i,x)\n",
    "    \n",
    "    return poly,coef"
   ]
  },
  {
   "cell_type": "code",
   "execution_count": 839,
   "metadata": {},
   "outputs": [],
   "source": [
    "#Ejecución/obtención del polinomio\n",
    "a,b = GetPolynomial(f,2)"
   ]
  },
  {
   "cell_type": "code",
   "execution_count": 840,
   "metadata": {},
   "outputs": [
    {
     "data": {
      "image/png": "[encoded data removed]",
      "text/latex": [
       "$\\displaystyle 1.0 x^{2} + 5.0 x + 3.0$"
      ],
      "text/plain": [
       "     2              \n",
       "1.0*x  + 5.0*x + 3.0"
      ]
     },
     "execution_count": 840,
     "metadata": {},
     "output_type": "execute_result"
    }
   ],
   "source": [
    "a #Polinimio"
   ]
  },
  {
   "cell_type": "code",
   "execution_count": 841,
   "metadata": {},
   "outputs": [
    {
     "data": {
      "image/png": "[encoded data removed]",
      "text/latex": [
       "$\\displaystyle \\left[ 3.33333333333333, \\  5.0, \\  0.666666666666667\\right]$"
      ],
      "text/plain": [
       "[3.33333333333333, 5.0, 0.666666666666667]"
      ]
     },
     "execution_count": 841,
     "metadata": {},
     "output_type": "execute_result"
    }
   ],
   "source": [
    "b #Lista de coeficientes utilizados"
   ]
  }
 ],
 "metadata": {
  "kernelspec": {
   "display_name": "Python 3",
   "language": "python",
   "name": "python3"
  },
  "language_info": {
   "codemirror_mode": {
    "name": "ipython",
    "version": 3
   },
   "file_extension": ".py",
   "mimetype": "text/x-python",
   "name": "python",
   "nbconvert_exporter": "python",
   "pygments_lexer": "ipython3",
   "version": "3.8.5"
  }
 },
 "nbformat": 4,
 "nbformat_minor": 4
}
