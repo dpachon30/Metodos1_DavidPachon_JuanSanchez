{
 "cells": [
  {
   "cell_type": "code",
   "execution_count": 1,
   "metadata": {},
   "outputs": [],
   "source": [
    "import sympy as sym\n",
    "import numpy as np"
   ]
  },
  {
   "cell_type": "code",
   "execution_count": 2,
   "metadata": {},
   "outputs": [],
   "source": [
    "#Función para integración por simpson 3/8\n",
    "def IntegralSimpson3_8(xi,xf,n,f):\n",
    "    x = np.linspace(xi,xf,n)\n",
    "    lon = len(x)\n",
    "    h = x[1]-x[0]\n",
    "    suma = 0\n",
    "    for i in range(lon):\n",
    "        valor = f(x[i])\n",
    "        if i==0 or i==lon-1:\n",
    "            valor*=1\n",
    "        elif (i+1)%3 ==0:\n",
    "            valor*=2\n",
    "        else:\n",
    "            valor*=3\n",
    "        suma+=valor\n",
    "    return ((3*h)/8)*suma"
   ]
  },
  {
   "cell_type": "code",
   "execution_count": 3,
   "metadata": {},
   "outputs": [
    {
     "data": {
      "text/latex": [
       "$\\displaystyle 2.6378774601662$"
      ],
      "text/plain": [
       "2.63787746016620"
      ]
     },
     "execution_count": 3,
     "metadata": {},
     "output_type": "execute_result"
    }
   ],
   "source": [
    "#Se define la función suministrada en el enunciado del taller\n",
    "f = lambda x: (1+sym.exp(-x**2))**0.5\n",
    "\n",
    "IntegralSimpson3_8(-1,1,300,f)"
   ]
  },
  {
   "cell_type": "code",
   "execution_count": null,
   "metadata": {},
   "outputs": [],
   "source": [
    "#Hay algo de error"
   ]
  }
 ],
 "metadata": {
  "kernelspec": {
   "display_name": "Python 3",
   "language": "python",
   "name": "python3"
  },
  "language_info": {
   "codemirror_mode": {
    "name": "ipython",
    "version": 3
   },
   "file_extension": ".py",
   "mimetype": "text/x-python",
   "name": "python",
   "nbconvert_exporter": "python",
   "pygments_lexer": "ipython3",
   "version": "3.8.5"
  }
 },
 "nbformat": 4,
 "nbformat_minor": 4
}
