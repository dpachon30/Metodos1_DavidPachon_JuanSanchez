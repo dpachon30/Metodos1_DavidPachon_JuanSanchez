{
 "cells": [
  {
   "cell_type": "code",
   "execution_count": 34,
   "metadata": {},
   "outputs": [],
   "source": [
    "import numpy as np\n",
    "import matplotlib.pyplot as plt"
   ]
  },
  {
   "cell_type": "code",
   "execution_count": 35,
   "metadata": {},
   "outputs": [],
   "source": [
    "def Gaus_Legendre(xi,xf,n,f,weights,roots):\n",
    "     \n",
    "    xf_xi= (xf-xi)/2\n",
    "    \n",
    "    xi_xf= (xi+xf)/2\n",
    "    sumatoria=0\n",
    "    for i in range(n):\n",
    "                   \n",
    "        xn=pesos[i]*funcion(xf_xi*abcisas[i] + xi_xf)\n",
    "        \n",
    "        sumatoria += xn\n",
    "    \n",
    "    integral= xf_xi*sumatoria\n",
    "    \n",
    "    return integral"
   ]
  },
  {
   "cell_type": "code",
   "execution_count": 36,
   "metadata": {},
   "outputs": [],
   "source": [
    "#Se define la funcion suministrada en el enunciado del taller\n",
    "f= lambda x: 1/x**2\n",
    "\n",
    "#Weights for n=2\n",
    "w2N=[1,1]\n",
    "#Roots for n=2\n",
    "zt2=[(3**0.5)/3,-(3**0.5)/3]\n",
    "\n",
    "\n",
    "#Weights for n=3\n",
    "w3N=[0.55555,0.88888,0.55555]\n",
    "#Roots for n=3\n",
    "zt3=[(15**0.5)/5,0,-(15**0.5)/5]\n"
   ]
  },
  {
   "cell_type": "code",
   "execution_count": 37,
   "metadata": {},
   "outputs": [
    {
     "name": "stdout",
     "output_type": "stream",
     "text": [
      "Integral for n=2: 0.4970414201183432\n"
     ]
    }
   ],
   "source": [
    "print('Integral for n=2:',gaus_legendre(1, 2, 2, f, w2N, zt2))"
   ]
  },
  {
   "cell_type": "code",
   "execution_count": 38,
   "metadata": {},
   "outputs": [
    {
     "name": "stdout",
     "output_type": "stream",
     "text": [
      "Integral for n=3: 0.49986902494331065\n"
     ]
    }
   ],
   "source": [
    "print('Integral for n=3:',gaus_legendre(1, 2, 3, f, w3N, zt3))"
   ]
  }
 ],
 "metadata": {
  "kernelspec": {
   "display_name": "Python 3",
   "language": "python",
   "name": "python3"
  },
  "language_info": {
   "codemirror_mode": {
    "name": "ipython",
    "version": 3
   },
   "file_extension": ".py",
   "mimetype": "text/x-python",
   "name": "python",
   "nbconvert_exporter": "python",
   "pygments_lexer": "ipython3",
   "version": "3.8.5"
  }
 },
 "nbformat": 4,
 "nbformat_minor": 4
}
