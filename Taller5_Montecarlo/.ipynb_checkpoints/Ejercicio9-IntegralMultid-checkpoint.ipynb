{
 "cells": [
  {
   "cell_type": "code",
   "execution_count": 34,
   "metadata": {},
   "outputs": [],
   "source": [
    "import numpy as np\n",
    "import matplotlib.pyplot as plt"
   ]
  },
  {
   "cell_type": "code",
   "execution_count": 35,
   "metadata": {},
   "outputs": [],
   "source": [
    "#Se define la función de sumatoria cuadrada\n",
    "def F(n):\n",
    "\n",
    "    return (2**-7)*(np.sum(n, axis=0))**2\n",
    "\n",
    "#Se define el método para integrar en ciclo\n",
    "def ciclo(N):\n",
    "    Sum=[]\n",
    "    for i in range(8):\n",
    "        dato = np.random.uniform(0, 1, size=N)\n",
    "        Sum.append(dato)\n",
    "    return Sum[0],Sum[1],Sum[2],Sum[3],Sum[4],Sum[5],Sum[6],Sum[7]"
   ]
  },
  {
   "cell_type": "code",
   "execution_count": 36,
   "metadata": {},
   "outputs": [
    {
     "name": "stdout",
     "output_type": "stream",
     "text": [
      "0.13\n"
     ]
    }
   ],
   "source": [
    "#Se define el tamaño para la distribución\n",
    "N=int(1e7)\n",
    "\n",
    "Valores=F(ciclo(N))\n",
    "mean=np.average(Valores)\n",
    "\n",
    "\n",
    "#Se obtiene el valor promedio\n",
    "print(round(mean,3))"
   ]
  },
  {
   "cell_type": "code",
   "execution_count": null,
   "metadata": {},
   "outputs": [],
   "source": []
  }
 ],
 "metadata": {
  "kernelspec": {
   "display_name": "Python 3",
   "language": "python",
   "name": "python3"
  },
  "language_info": {
   "codemirror_mode": {
    "name": "ipython",
    "version": 3
   },
   "file_extension": ".py",
   "mimetype": "text/x-python",
   "name": "python",
   "nbconvert_exporter": "python",
   "pygments_lexer": "ipython3",
   "version": "3.8.5"
  }
 },
 "nbformat": 4,
 "nbformat_minor": 4
}
