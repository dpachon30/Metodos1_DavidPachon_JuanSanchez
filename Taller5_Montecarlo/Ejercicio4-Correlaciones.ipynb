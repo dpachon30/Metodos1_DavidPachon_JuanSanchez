{
 "cells": [
  {
   "cell_type": "code",
   "execution_count": 1,
   "metadata": {},
   "outputs": [
    {
     "name": "stdout",
     "output_type": "stream",
     "text": [
      "30\n"
     ]
    },
    {
     "data": {
      "image/png": "[encoded data removed]",
      "text/plain": [
       "<Figure size 432x288 with 1 Axes>"
      ]
     },
     "metadata": {
      "needs_background": "light"
     },
     "output_type": "display_data"
    }
   ],
   "source": [
    "import numpy as np\n",
    "import matplotlib.pyplot as plt\n",
    "\n",
    "N = 10000\n",
    "K = 1\n",
    "RK = []\n",
    "lista = np.random.rand(N+K)\n",
    "while K<=30:\n",
    "    #lista = np.random.rand(N+K)\n",
    "    #lista = np.random.rand(5+K) \n",
    "    \n",
    "    A = 0\n",
    "    \n",
    "    largo_lista= len(lista)-K\n",
    "    ll =largo_lista \n",
    "    for i in range(ll):\n",
    "        A += lista[i]*lista[i+K]\n",
    "        \n",
    "    r = A/ll\n",
    "    RK.append(r) \n",
    "    K+=1\n",
    "\n",
    "print(len(RK)) \n",
    "x = np.arange(1,31,1)\n",
    "plt.plot(x,RK)\n",
    "plt.axhline(y=0.28,color=\"r\")\n",
    "plt.axhline(y=0.25,color=\"r\")\n",
    "plt.axhline(y=0.22,color=\"r\")\n",
    "plt.grid()"
   ]
  },
  {
   "cell_type": "code",
   "execution_count": null,
   "metadata": {},
   "outputs": [],
   "source": []
  }
 ],
 "metadata": {
  "kernelspec": {
   "display_name": "Python 3",
   "language": "python",
   "name": "python3"
  },
  "language_info": {
   "codemirror_mode": {
    "name": "ipython",
    "version": 3
   },
   "file_extension": ".py",
   "mimetype": "text/x-python",
   "name": "python",
   "nbconvert_exporter": "python",
   "pygments_lexer": "ipython3",
   "version": "3.8.5"
  }
 },
 "nbformat": 4,
 "nbformat_minor": 4
}
