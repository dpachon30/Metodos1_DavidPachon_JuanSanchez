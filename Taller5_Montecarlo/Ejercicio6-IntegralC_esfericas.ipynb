{
 "cells": [
  {
   "cell_type": "markdown",
   "metadata": {},
   "source": [
    "<img src=\"Ex6.png\">"
   ]
  },
  {
   "cell_type": "code",
   "execution_count": 1,
   "metadata": {},
   "outputs": [],
   "source": [
    "#Teoría utilizada"
   ]
  },
  {
   "cell_type": "markdown",
   "metadata": {},
   "source": [
    "<font size = 4> Para las integrales sobre una esfera, el cambio de coordenadas cartesianas a esféricas nos dirige a las siguientes expresiones: $$ r = \\sqrt{x^2+y^2+z^2}$$; $$r ∈ [0,\\sqrt{x^2+y^2+z^2}],   \\theta ∈ [0,2π], \\phi ∈ [0,π] $$ Estas expresiones permiten generar una esfera en la rotación sobre los dominios descritos"
   ]
  },
  {
   "cell_type": "code",
   "execution_count": 2,
   "metadata": {},
   "outputs": [],
   "source": [
    "#Aplicación"
   ]
  },
  {
   "cell_type": "markdown",
   "metadata": {},
   "source": [
    "<font size = 4> La restricción brindada en el enunciado $$ {x^2+y^2+z^2 ≤ 1} $$ nos delimita los puntos hallados dentro de la esfera unitaria, incluyendo la superficie frontera. En la transformación obtenemos el dominio para cada coordenada: $$r ∈ [0,1], \\theta ∈ [0,2π], \\phi ∈ [0,π] $$ \n",
    "    \n",
    "Adicionalmente, la función presente en la integral sufre la modificación:\n",
    "    $$ e^{\\sqrt{x^2+y^2+z^2}} = e^{r} $$\n",
    "    \n",
    "Obteniendo la integral:\n",
    "    \n",
    "   <img src=\"b.png\">\n",
    "    \n",
    "que se simplifica a:"
   ]
  },
  {
   "cell_type": "markdown",
   "metadata": {},
   "source": [
    "<font size = 4>\n",
    "<img src=\"a_.png\">\n",
    "     \n",
    "debido a la ausencia del término theta en la ecuación"
   ]
  },
  {
   "cell_type": "code",
   "execution_count": 3,
   "metadata": {},
   "outputs": [],
   "source": [
    "#Programa"
   ]
  },
  {
   "cell_type": "code",
   "execution_count": 4,
   "metadata": {},
   "outputs": [],
   "source": [
    "import numpy as np\n",
    "import sympy as sym\n",
    "import matplotlib.pyplot as plt"
   ]
  },
  {
   "cell_type": "code",
   "execution_count": 15,
   "metadata": {},
   "outputs": [],
   "source": [
    "#Integral del factor r, radio del circulo\n",
    "r = sym.Symbol('r',real=True)\n",
    "F = sym.exp(r) * r**2"
   ]
  },
  {
   "cell_type": "code",
   "execution_count": 14,
   "metadata": {},
   "outputs": [
    {
     "data": {
      "text/latex": [
       "$\\displaystyle -2 + e$"
      ],
      "text/plain": [
       "-2 + E"
      ]
     },
     "execution_count": 14,
     "metadata": {},
     "output_type": "execute_result"
    }
   ],
   "source": [
    "I = sym.integrate( F, (r,0,1) )\n",
    "I"
   ]
  },
  {
   "cell_type": "code",
   "execution_count": null,
   "metadata": {},
   "outputs": [],
   "source": []
  },
  {
   "cell_type": "code",
   "execution_count": 7,
   "metadata": {},
   "outputs": [],
   "source": [
    "#Integración del parámetro phi"
   ]
  },
  {
   "cell_type": "code",
   "execution_count": 11,
   "metadata": {},
   "outputs": [],
   "source": [
    "phi = sym.Symbol('phi',real=True)\n",
    "G = sym.sin(phi)"
   ]
  },
  {
   "cell_type": "code",
   "execution_count": 12,
   "metadata": {},
   "outputs": [
    {
     "data": {
      "text/latex": [
       "$\\displaystyle 2.0$"
      ],
      "text/plain": [
       "2.00000000000000"
      ]
     },
     "execution_count": 12,
     "metadata": {},
     "output_type": "execute_result"
    }
   ],
   "source": [
    "H = sym.integrate( G, (phi,0,np.pi) )\n",
    "H"
   ]
  },
  {
   "cell_type": "code",
   "execution_count": 13,
   "metadata": {},
   "outputs": [
    {
     "data": {
      "text/latex": [
       "$\\displaystyle \\pi \\left(-8.0 + 4.0 e\\right)$"
      ],
      "text/plain": [
       "pi*(-8.0 + 4.0*E)"
      ]
     },
     "execution_count": 13,
     "metadata": {},
     "output_type": "execute_result"
    }
   ],
   "source": [
    "# Respuesta obtenida\n",
    "Answer = I*H*2*sym.pi\n",
    "Answer"
   ]
  },
  {
   "cell_type": "code",
   "execution_count": null,
   "metadata": {},
   "outputs": [],
   "source": []
  }
 ],
 "metadata": {
  "kernelspec": {
   "display_name": "Python 3",
   "language": "python",
   "name": "python3"
  },
  "language_info": {
   "codemirror_mode": {
    "name": "ipython",
    "version": 3
   },
   "file_extension": ".py",
   "mimetype": "text/x-python",
   "name": "python",
   "nbconvert_exporter": "python",
   "pygments_lexer": "ipython3",
   "version": "3.8.5"
  }
 },
 "nbformat": 4,
 "nbformat_minor": 4
}
