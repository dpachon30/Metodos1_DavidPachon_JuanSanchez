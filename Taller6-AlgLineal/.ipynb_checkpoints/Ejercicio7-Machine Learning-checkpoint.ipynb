{
 "cells": [
  {
   "cell_type": "code",
   "execution_count": 1,
   "metadata": {},
   "outputs": [],
   "source": [
    "import numpy as np\n",
    "import matplotlib.pyplot as plt\n",
    "from IPython.display import clear_output\n",
    "import time"
   ]
  },
  {
   "cell_type": "code",
   "execution_count": 2,
   "metadata": {},
   "outputs": [],
   "source": [
    "# Definamos el sistema en una tupla\n",
    "G=(lambda x,y,z: 3*x - np.cos(y*z) - 1.5, \\\n",
    "   lambda x,y,z: 4*x**2 - 625*y**2 + 2*y -1, \\\n",
    "   lambda x,y,z: np.exp(-x*y) + 20*z + 9.471975 )"
   ]
  },
  {
   "cell_type": "code",
   "execution_count": 3,
   "metadata": {},
   "outputs": [],
   "source": [
    "G1=(lambda x,y,z: 3*x - y - z - 1., \\\n",
    "    lambda x,y,z: -x + 3*y + z - 3., \\\n",
    "    lambda x,y,z: 2*x + y + 4*z - 7.)"
   ]
  },
  {
   "cell_type": "code",
   "execution_count": 6,
   "metadata": {},
   "outputs": [
    {
     "name": "stdout",
     "output_type": "stream",
     "text": [
      "0.0\n",
      "0.0\n",
      "0.0\n"
     ]
    }
   ],
   "source": [
    "for i in range(3):\n",
    "    print(G1[i](1,1,1))"
   ]
  },
  {
   "cell_type": "code",
   "execution_count": 7,
   "metadata": {},
   "outputs": [],
   "source": [
    "def GetVectorF(G,r):\n",
    "    \n",
    "    dim = len(G)\n",
    "    \n",
    "    v = np.zeros(dim)\n",
    "    \n",
    "    for i in range(dim):\n",
    "        v[i] = G[i](r[0],r[1],r[2])\n",
    "        \n",
    "    return v"
   ]
  },
  {
   "cell_type": "code",
   "execution_count": 8,
   "metadata": {},
   "outputs": [],
   "source": [
    "def GetJacobian(G,r,h=1e-6):\n",
    "    \n",
    "    dim = len(G)\n",
    "    \n",
    "    J = np.zeros((dim,dim))\n",
    "    \n",
    "    for i in range(dim):\n",
    "        J[i,0] = (  G[i](r[0]+h,r[1],r[2]) - G[i](r[0]-h,r[1],r[2]) )/(2*h)\n",
    "        J[i,1] = (  G[i](r[0],r[1]+h,r[2]) - G[i](r[0],r[1]-h,r[2]) )/(2*h)\n",
    "        J[i,2] = (  G[i](r[0],r[1],r[2]+h) - G[i](r[0],r[1],r[2]-h) )/(2*h)\n",
    "        \n",
    "    return J.T"
   ]
  },
  {
   "cell_type": "code",
   "execution_count": 9,
   "metadata": {},
   "outputs": [],
   "source": [
    "def GetMetric(G,r):\n",
    "    v = GetVectorF(G,r)\n",
    "    return 0.5*np.linalg.norm(v)**2"
   ]
  },
  {
   "cell_type": "code",
   "execution_count": 10,
   "metadata": {},
   "outputs": [
    {
     "data": {
      "text/plain": [
       "59.456130200312515"
      ]
     },
     "execution_count": 10,
     "metadata": {},
     "output_type": "execute_result"
    }
   ],
   "source": [
    "GetMetric(G,[1,0,0])"
   ]
  },
  {
   "cell_type": "code",
   "execution_count": 11,
   "metadata": {},
   "outputs": [],
   "source": [
    "def GetFig(F,R,it):\n",
    "    \n",
    "    fig = plt.figure(figsize=(8,4))\n",
    "    \n",
    "    labels = ['X','Y','Z']\n",
    "    \n",
    "    ax = fig.add_subplot(1,2,1)\n",
    "    ax1 = fig.add_subplot(1,2,2)\n",
    "\n",
    "    ax.set_title('Metric: %.20f' %(F[it]))\n",
    "\n",
    "    ax.plot(F[:it])\n",
    "    ax.set_xlabel('%.0f' %(it))\n",
    "    ax.set_yscale('log')\n",
    "    ax1.plot(R[:it],label=labels)\n",
    "    ax1.set_xlabel('%.0f' %(it))\n",
    "    ax1.legend(loc=0)\n",
    "    \n",
    "    plt.show()"
   ]
  },
  {
   "cell_type": "code",
   "execution_count": 12,
   "metadata": {},
   "outputs": [],
   "source": [
    "def GetSolve(G,r,lr=1e-3,epochs=int(1e5),error=1e-7):\n",
    "    \n",
    "    d = 1\n",
    "    it = 0\n",
    "    Vector_F = np.array([])\n",
    "    \n",
    "    R_vector = np.array(r)\n",
    "    \n",
    "    while d > error and it < epochs:\n",
    "        \n",
    "        CurrentF = GetMetric(G,r)\n",
    "        \n",
    "        J = GetJacobian(G,r)\n",
    "        \n",
    "        GVector = GetVectorF(G,r)\n",
    "        \n",
    "        #Machine Learning\n",
    "        r -= lr*np.dot(J,GVector) \n",
    "        \n",
    "        R_vector = np.vstack((R_vector,r))\n",
    "        \n",
    "        NewF = GetMetric(G,r)\n",
    "        \n",
    "        \n",
    "        Vector_F = np.append(Vector_F,NewF)\n",
    "        \n",
    "        d = np.abs( CurrentF - NewF )/NewF\n",
    "        \n",
    "        \n",
    "        if it%500 == 0:\n",
    "            \n",
    "            #print(it,d)\n",
    "            clear_output(wait=True)\n",
    "            GetFig(Vector_F,R_vector,it)\n",
    "            time.sleep(0.01)\n",
    "            \n",
    "        it += 1\n",
    "        \n",
    "    if d < error:\n",
    "        print(' Entrenamiento completo ', d, 'iteraciones', it)\n",
    "        \n",
    "    if it == epochs:\n",
    "        print(' Entrenamiento no completado ')\n",
    "        \n",
    "    return r,it,Vector_F,R_vector"
   ]
  },
  {
   "cell_type": "code",
   "execution_count": 13,
   "metadata": {},
   "outputs": [
    {
     "data": {
      "image/png": "[encoded data removed]",
      "text/plain": [
       "<Figure size 576x288 with 2 Axes>"
      ]
     },
     "metadata": {
      "needs_background": "light"
     },
     "output_type": "display_data"
    },
    {
     "name": "stdout",
     "output_type": "stream",
     "text": [
      " Entrenamiento completo  0.0 iteraciones 32580\n"
     ]
    }
   ],
   "source": [
    "xsol,it,F,R = GetSolve(G,[0,0,0],lr=1e-4)"
   ]
  },
  {
   "cell_type": "code",
   "execution_count": 14,
   "metadata": {},
   "outputs": [
    {
     "data": {
      "text/plain": [
       "array([ 0.83319658,  0.05494366, -0.52136141])"
      ]
     },
     "execution_count": 14,
     "metadata": {},
     "output_type": "execute_result"
    }
   ],
   "source": [
    "xsol"
   ]
  },
  {
   "cell_type": "code",
   "execution_count": 17,
   "metadata": {},
   "outputs": [
    {
     "data": {
      "image/png": "[encoded data removed]",
      "text/plain": [
       "<Figure size 432x288 with 1 Axes>"
      ]
     },
     "metadata": {
      "needs_background": "light"
     },
     "output_type": "display_data"
    }
   ],
   "source": [
    "plt.plot(F)\n",
    "plt.xscale('log')\n",
    "plt.yscale('log')"
   ]
  },
  {
   "cell_type": "code",
   "execution_count": 16,
   "metadata": {},
   "outputs": [
    {
     "data": {
      "text/plain": [
       "<matplotlib.legend.Legend at 0x7fbba87026d0>"
      ]
     },
     "execution_count": 16,
     "metadata": {},
     "output_type": "execute_result"
    },
    {
     "data": {
      "image/png": "[encoded data removed]",
      "text/plain": [
       "<Figure size 432x288 with 1 Axes>"
      ]
     },
     "metadata": {
      "needs_background": "light"
     },
     "output_type": "display_data"
    }
   ],
   "source": [
    "labels = ['X','Y','Z']\n",
    "\n",
    "for i in range(3):\n",
    "    plt.plot(R[:,i][:10000],label=labels[i])\n",
    "plt.legend()"
   ]
  },
  {
   "cell_type": "code",
   "execution_count": null,
   "metadata": {},
   "outputs": [],
   "source": []
  }
 ],
 "metadata": {
  "kernelspec": {
   "display_name": "Python 3",
   "language": "python",
   "name": "python3"
  },
  "language_info": {
   "codemirror_mode": {
    "name": "ipython",
    "version": 3
   },
   "file_extension": ".py",
   "mimetype": "text/x-python",
   "name": "python",
   "nbconvert_exporter": "python",
   "pygments_lexer": "ipython3",
   "version": "3.8.5"
  }
 },
 "nbformat": 4,
 "nbformat_minor": 4
}
