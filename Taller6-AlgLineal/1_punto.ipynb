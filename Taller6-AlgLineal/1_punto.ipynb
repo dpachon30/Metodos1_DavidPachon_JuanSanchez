{
  "nbformat": 4,
  "nbformat_minor": 0,
  "metadata": {
    "colab": {
      "provenance": []
    },
    "kernelspec": {
      "name": "python3",
      "display_name": "Python 3"
    },
    "language_info": {
      "name": "python"
    }
  },
  "cells": [
    {
      "cell_type": "code",
      "execution_count": 3,
      "metadata": {
        "id": "QCrT_hi-ghGz"
      },
      "outputs": [],
      "source": [
        "import numpy as np\n",
        "import matplotlib.pyplot as plt"
      ]
    },
    {
      "cell_type": "code",
      "source": [
        "M = np.array([[3,-1,-1],[-1.,3.,1.],[2,1,4]])\n",
        "\n",
        "b = np.array([1.,3.,7.])\n",
        "\n",
        "\n",
        "def GetGauss_Seidel(A,b,itmax=1000,error = 1e-10):\n",
        "    \n",
        "    M,N = A.shape\n",
        "    \n",
        "    x = np.zeros(N)\n",
        "    \n",
        "    sumk = np.zeros_like(x)\n",
        "    \n",
        "    x = [0,0,0]\n",
        "    \n",
        "    it = 0\n",
        "    \n",
        "    residuo = np.linalg.norm( b - np.dot(A,x) )\n",
        "    \n",
        "    while ( residuo > error and it < itmax ):\n",
        "        \n",
        "        it += 1\n",
        "        \n",
        "        for i in range(M):\n",
        "            sum_ = 0\n",
        "            for j in range(N):\n",
        "                if i != j:\n",
        "                    sum_ += A[i][j]*x[j]\n",
        "                sumk[i] = sum_\n",
        "                if A[i,i] != 0:\n",
        "                    x[i] = (b[i] - sumk[i])/A[i,i]\n",
        "                else:\n",
        "                    print('No invertible con Jacobi')\n",
        "    \n",
        "        \n",
        "        \n",
        "        residuo = np.linalg.norm( b - np.dot(A,x) )\n",
        "        \n",
        "    return x,it,residuo\n",
        "\n",
        "\n",
        "x,it,residuo = GetGauss_Seidel(M,b)    \n",
        "print(\"Iteraciones:\",it,\"----- Resultado:\", x)"
      ],
      "metadata": {
        "colab": {
          "base_uri": "https://localhost:8080/"
        },
        "id": "fGVd3G0UgmL5",
        "outputId": "aa0d4d92-e5c3-4d0c-baf0-930649e39a3d"
      },
      "execution_count": 9,
      "outputs": [
        {
          "output_type": "stream",
          "name": "stdout",
          "text": [
            "Iteraciones: 18 ----- Resultado: [1.0000000000126035, 0.9999999999949587, 0.9999999999949586]\n"
          ]
        }
      ]
    }
  ]
}