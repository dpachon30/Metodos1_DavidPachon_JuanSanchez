{
  "nbformat": 4,
  "nbformat_minor": 0,
  "metadata": {
    "colab": {
      "provenance": []
    },
    "kernelspec": {
      "name": "python3",
      "display_name": "Python 3"
    },
    "language_info": {
      "name": "python"
    }
  },
  "cells": [
    {
      "cell_type": "markdown",
      "source": [
        "**Library**\n"
      ],
      "metadata": {
        "id": "zG2-uPJVazff"
      }
    },
    {
      "cell_type": "code",
      "execution_count": 25,
      "metadata": {
        "id": "ckxWeNlPHgW6"
      },
      "outputs": [],
      "source": [
        "import numpy as np"
      ]
    },
    {
      "cell_type": "markdown",
      "source": [
        "**Clase para solucionar sistemas lineales**"
      ],
      "metadata": {
        "id": "fc9aVCEWbIrn"
      }
    },
    {
      "cell_type": "code",
      "source": [
        "class SSL:\n",
        "\n",
        "    def __init__(self, A, b):\n",
        "\n",
        "        self.A = A \n",
        "        self.b = b\n",
        "        self.itmax = 1000\n",
        "        self.error = 1e-10\n",
        "\n",
        "    def GetJacobiMethod(self):  \n",
        "    \n",
        "        M,N = self.A.shape\n",
        "        \n",
        "        x = np.zeros(N)\n",
        "        \n",
        "        sumk = np.zeros_like(x)\n",
        "        \n",
        "        it = 0\n",
        "        \n",
        "        residuo = np.linalg.norm( self.b - np.dot(self.A,x) )\n",
        "        \n",
        "        while ( residuo > self.error and it < self.itmax ):\n",
        "            \n",
        "            it += 1\n",
        "            \n",
        "            for i in range(M):\n",
        "                sum_ = 0\n",
        "                for j in range(N):\n",
        "                    if i != j:\n",
        "                        sum_ += self.A[i][j]*x[j]\n",
        "                sumk[i] = sum_\n",
        "            \n",
        "            for i in range(M):\n",
        "                \n",
        "                if self.A[i,i] != 0:\n",
        "                    x[i] = (self.b[i] - sumk[i])/self.A[i,i]\n",
        "                else:\n",
        "                    print('No invertible con Jacobi')\n",
        "                        \n",
        "            residuo = np.linalg.norm( self.b - np.dot(self.A,x) )\n",
        "            \n",
        "        return x,it,residuo    \n",
        "\n",
        "    def GetGauss_Seidel(self):\n",
        "    \n",
        "        M,N = self.A.shape\n",
        "        \n",
        "        x = np.zeros(N)\n",
        "        \n",
        "        sumk = np.zeros_like(x)\n",
        "        \n",
        "        it = 0\n",
        "        \n",
        "        residuo = np.linalg.norm( self.b - np.dot(self.A,x) )\n",
        "        \n",
        "        while ( residuo > self.error and it < self.itmax ):\n",
        "            \n",
        "            it += 1\n",
        "            \n",
        "            for i in range(M):\n",
        "                sum_ = 0\n",
        "                for j in range(N):\n",
        "                    if i != j:\n",
        "                        sum_ += self.A[i][j]*x[j]\n",
        "                    sumk[i] = sum_\n",
        "                    if self.A[i,i] != 0:\n",
        "                        x[i] = (self.b[i] - sumk[i])/self.A[i,i]\n",
        "                    else:\n",
        "                        print('No es invertible con Seidel')\n",
        "        \n",
        "            \n",
        "            residuo = np.linalg.norm( self.b - np.dot(self.A,x) )\n",
        "        \n",
        "        return x,it,residuo\n",
        "\n"
      ],
      "metadata": {
        "id": "Cw_bgpSJHqEg"
      },
      "execution_count": 26,
      "outputs": []
    },
    {
      "cell_type": "markdown",
      "source": [
        "**Con el sistema de ecuaciones visto en\n",
        "clase :**"
      ],
      "metadata": {
        "id": "rVoVXyv_ea0g"
      }
    },
    {
      "cell_type": "code",
      "source": [
        "M = np.array([[3,-1,-1],[-1.,3.,1.],[2,1,4]])\n",
        "b = np.array([1.,3.,7.])\n",
        "\n",
        "\n",
        "SSL_ = SSL(M,b)\n",
        "x_J,itera_J,residuo_J = SSL_.GetJacobiMethod()\n",
        "x_GS,itera_GS,residuo_GS = SSL_.GetGauss_Seidel()\n",
        "\n",
        "print(\"Con\",itera_J,\"iteraciones\" \" el metodo de Jacobi nos da:\",x_J)\n",
        "print(\"Con\",itera_GS,\"iteraciones\" \" el metodo de Gaus-Seidel nos da:\",x_GS)"
      ],
      "metadata": {
        "colab": {
          "base_uri": "https://localhost:8080/"
        },
        "id": "m8IgLExnQOYh",
        "outputId": "2f592693-671a-43bf-ea3d-bc1f676571e2"
      },
      "execution_count": 27,
      "outputs": [
        {
          "output_type": "stream",
          "name": "stdout",
          "text": [
            "Con 23 iteraciones el metodo de Jacobi nos da: [1. 1. 1.]\n",
            "Con 18 iteraciones el metodo de Gaus-Seidel nos da: [1. 1. 1.]\n"
          ]
        }
      ]
    }
  ]
}