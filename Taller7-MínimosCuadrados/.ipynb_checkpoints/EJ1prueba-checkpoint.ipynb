{
 "cells": [
  {
   "cell_type": "code",
   "execution_count": 6,
   "metadata": {},
   "outputs": [],
   "source": [
    "import numpy as np\n",
    "import matplotlib.pyplot as plt\n",
    "import sympy as sym\n",
    "# x = AT-1 A-1 AT b\n",
    "# y = -3, x=-0.5"
   ]
  },
  {
   "cell_type": "code",
   "execution_count": 7,
   "metadata": {},
   "outputs": [],
   "source": [
    "def Sol_Minv(A,B):\n",
    "    a = np.linalg.inv(A)\n",
    "    sol = np.dot(a,B)\n",
    "    return sol"
   ]
  },
  {
   "cell_type": "code",
   "execution_count": 8,
   "metadata": {},
   "outputs": [
    {
     "data": {
      "text/plain": [
       "11.726039399558575"
      ]
     },
     "execution_count": 8,
     "metadata": {},
     "output_type": "execute_result"
    }
   ],
   "source": [
    "A = np.array([[2,-1],[1,2],[1,1]])\n",
    "\n",
    "b = np.array([2,1,4])\n",
    "B = np.transpose(A)\n",
    "A\n",
    "x=np.array([-3,-0.5])\n",
    "c = np.dot(A,x)\n",
    "c\n",
    "b\n",
    "np.linalg.norm(c-b)"
   ]
  },
  {
   "cell_type": "code",
   "execution_count": 11,
   "metadata": {},
   "outputs": [],
   "source": [
    "def MinCuad(A,b,r=5):\n",
    "    xi = np.array([-3,-0.5])\n",
    "    n = len(xi)\n",
    "    residuo = 100\n",
    "    while residuo>r:\n",
    "        c = np.dot(A,xi)\n",
    "        residuo = np.linalg.norm(c-b)\n",
    "        for i in range(n):\n",
    "            xi[i] = c[i]-xi[i]\n",
    "    return residuo"
   ]
  },
  {
   "cell_type": "code",
   "execution_count": 12,
   "metadata": {},
   "outputs": [
    {
     "name": "stderr",
     "output_type": "stream",
     "text": [
      "<ipython-input-11-a0fef03710ef>:9: RuntimeWarning: invalid value encountered in double_scalars\n",
      "  xi[i] = c[i]-xi[i]\n"
     ]
    },
    {
     "data": {
      "text/plain": [
       "nan"
      ]
     },
     "execution_count": 12,
     "metadata": {},
     "output_type": "execute_result"
    }
   ],
   "source": [
    "MinCuad(A,b)"
   ]
  },
  {
   "cell_type": "code",
   "execution_count": null,
   "metadata": {},
   "outputs": [],
   "source": []
  },
  {
   "cell_type": "code",
   "execution_count": null,
   "metadata": {},
   "outputs": [],
   "source": []
  }
 ],
 "metadata": {
  "kernelspec": {
   "display_name": "Python 3",
   "language": "python",
   "name": "python3"
  },
  "language_info": {
   "codemirror_mode": {
    "name": "ipython",
    "version": 3
   },
   "file_extension": ".py",
   "mimetype": "text/x-python",
   "name": "python",
   "nbconvert_exporter": "python",
   "pygments_lexer": "ipython3",
   "version": "3.8.5"
  }
 },
 "nbformat": 4,
 "nbformat_minor": 4
}
