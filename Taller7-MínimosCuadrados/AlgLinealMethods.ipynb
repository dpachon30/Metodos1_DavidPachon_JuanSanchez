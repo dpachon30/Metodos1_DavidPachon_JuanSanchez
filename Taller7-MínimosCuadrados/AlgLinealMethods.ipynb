{
 "cells": [
  {
   "cell_type": "code",
   "execution_count": 251,
   "metadata": {},
   "outputs": [],
   "source": [
    "import numpy as np\n",
    "import sympy as sym"
   ]
  },
  {
   "cell_type": "code",
   "execution_count": 252,
   "metadata": {},
   "outputs": [],
   "source": [
    "#Solución por matriz inversa\n",
    "def Sol_Minv(A,B):\n",
    "    a = np.linalg.inv(A)\n",
    "    sol = np.dot(a,B)\n",
    "    return sol"
   ]
  },
  {
   "cell_type": "code",
   "execution_count": null,
   "metadata": {},
   "outputs": [],
   "source": []
  },
  {
   "cell_type": "code",
   "execution_count": 253,
   "metadata": {},
   "outputs": [],
   "source": [
    "#Solucion por Jacobi\n",
    "\n",
    "def Tri_inf_sup(A):\n",
    "    B = A\n",
    "    if len(A)!= len(A[0]):\n",
    "        print('La matriz debe ser diagonal')\n",
    "        return None\n",
    "    else:\n",
    "        for i in range(0,len(B)):\n",
    "            B[i,i]=0\n",
    "    return B\n",
    "\n",
    "def residuo(A,e):\n",
    "    res = True\n",
    "    for i in range(0,len(A)):\n",
    "        if A.any():\n",
    "            res = False\n",
    "    return res\n",
    "\n",
    "def Sol_Jacobi(A,b,e=0.0000001,xi=np.array([0,0,0])):\n",
    "    D_ = np.diag(np.diag(A))\n",
    "    D = np.linalg.inv(D_)\n",
    "    R = Tri_inf_sup(A)\n",
    "    a = np.dot(D,b)\n",
    "    c = np.dot(D,R)\n",
    "    #print(c)\n",
    "    res = False\n",
    "    while res==False:\n",
    "        x = a-np.dot(c,xi)\n",
    "        resi = x-xi\n",
    "        res = residuo(resi,e)\n",
    "        xi = x\n",
    "        \n",
    "    return x, e"
   ]
  },
  {
   "cell_type": "code",
   "execution_count": null,
   "metadata": {},
   "outputs": [],
   "source": []
  },
  {
   "cell_type": "code",
   "execution_count": 254,
   "metadata": {},
   "outputs": [],
   "source": [
    "#Norma de un vector o matriz\n",
    "def norma(A):\n",
    "    return np.linalg.nor(a)"
   ]
  },
  {
   "cell_type": "code",
   "execution_count": null,
   "metadata": {},
   "outputs": [],
   "source": []
  },
  {
   "cell_type": "code",
   "execution_count": 255,
   "metadata": {},
   "outputs": [],
   "source": [
    "A = np.array([[6,2,1],[-1,8,2],[1,-1,6]])\n",
    "#A = np.array([[3,-1,-1],[-1,3,1],[2,1,4]])"
   ]
  },
  {
   "cell_type": "code",
   "execution_count": 256,
   "metadata": {},
   "outputs": [],
   "source": [
    "b = np.array([22,30,23])\n",
    "#b = np.array([1,3,7])"
   ]
  },
  {
   "cell_type": "code",
   "execution_count": null,
   "metadata": {},
   "outputs": [],
   "source": []
  },
  {
   "cell_type": "code",
   "execution_count": null,
   "metadata": {},
   "outputs": [],
   "source": []
  },
  {
   "cell_type": "code",
   "execution_count": null,
   "metadata": {},
   "outputs": [],
   "source": []
  }
 ],
 "metadata": {
  "kernelspec": {
   "display_name": "Python 3",
   "language": "python",
   "name": "python3"
  },
  "language_info": {
   "codemirror_mode": {
    "name": "ipython",
    "version": 3
   },
   "file_extension": ".py",
   "mimetype": "text/x-python",
   "name": "python",
   "nbconvert_exporter": "python",
   "pygments_lexer": "ipython3",
   "version": "3.8.5"
  }
 },
 "nbformat": 4,
 "nbformat_minor": 4
}
