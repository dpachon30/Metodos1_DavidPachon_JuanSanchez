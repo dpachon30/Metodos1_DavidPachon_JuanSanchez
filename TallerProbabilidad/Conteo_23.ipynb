{
 "cells": [
  {
   "cell_type": "code",
   "execution_count": 42,
   "metadata": {},
   "outputs": [],
   "source": [
    "import numpy as np\n",
    "import matplotlib.pyplot"
   ]
  },
  {
   "cell_type": "code",
   "execution_count": 43,
   "metadata": {},
   "outputs": [],
   "source": [
    "f = lambda x: np.math.factorial(x)"
   ]
  },
  {
   "cell_type": "code",
   "execution_count": 44,
   "metadata": {},
   "outputs": [],
   "source": [
    "def comb(a,b):\n",
    "    A=f(a+b-1)\n",
    "    B = f(a-1)*f(b)\n",
    "    return A/B"
   ]
  },
  {
   "cell_type": "markdown",
   "metadata": {},
   "source": [
    "Si las 4 llaves pudieran ser de un mismo color (cantidad suficiente de llaves por color), la combinatoria nos retorna de combinaciones posibles si tuvieramos solo 3 llaves de cada tipo (color) adicionando los casos en que las 4 llaves tienen el mismo color. Estos casos de igual color para todas las llaves ocupan un espacio igual al número de colores disponibles (en el caso del problema 3).\n",
    "\n"
   ]
  },
  {
   "cell_type": "markdown",
   "metadata": {},
   "source": [
    "De esta manera, si calculamos la combinatoria para la selección de 4 llaves a partir de 3 colores distintos, y a aquel valor le sustraemos la cantidad de colores distintos (3), obtenemos el valor buscado"
   ]
  },
  {
   "cell_type": "code",
   "execution_count": 45,
   "metadata": {},
   "outputs": [
    {
     "data": {
      "text/plain": [
       "15.0"
      ]
     },
     "execution_count": 45,
     "metadata": {},
     "output_type": "execute_result"
    }
   ],
   "source": [
    "A = comb(3,4) #seleccionar 4 llaves a partir de 3 colores disponibles (incluyendo casos del mismo color todas)\n",
    "A"
   ]
  },
  {
   "cell_type": "code",
   "execution_count": 46,
   "metadata": {},
   "outputs": [
    {
     "data": {
      "text/plain": [
       "12.0"
      ]
     },
     "execution_count": 46,
     "metadata": {},
     "output_type": "execute_result"
    }
   ],
   "source": [
    "B = A-3 #Valor solicitado\n",
    "B"
   ]
  }
 ],
 "metadata": {
  "kernelspec": {
   "display_name": "Python 3",
   "language": "python",
   "name": "python3"
  },
  "language_info": {
   "codemirror_mode": {
    "name": "ipython",
    "version": 3
   },
   "file_extension": ".py",
   "mimetype": "text/x-python",
   "name": "python",
   "nbconvert_exporter": "python",
   "pygments_lexer": "ipython3",
   "version": "3.8.5"
  }
 },
 "nbformat": 4,
 "nbformat_minor": 4
}
