{
 "cells": [
  {
   "cell_type": "code",
   "execution_count": 161,
   "metadata": {},
   "outputs": [],
   "source": [
    "import numpy as np\n",
    "import matplotlib.pyplot as plt"
   ]
  },
  {
   "cell_type": "code",
   "execution_count": 162,
   "metadata": {},
   "outputs": [],
   "source": [
    "def proba(n):\n",
    "    if n<=365:\n",
    "        i = 1\n",
    "        res = 1\n",
    "        while i<n:\n",
    "            res*=((365-i)/365)\n",
    "            i+=1\n",
    "    else:\n",
    "        res = 'El número ingresado debe ser menor a 365'\n",
    "    return res"
   ]
  },
  {
   "cell_type": "code",
   "execution_count": 163,
   "metadata": {},
   "outputs": [
    {
     "data": {
      "text/plain": [
       "0.9972602739726028"
      ]
     },
     "execution_count": 163,
     "metadata": {},
     "output_type": "execute_result"
    }
   ],
   "source": [
    "proba(2)"
   ]
  },
  {
   "cell_type": "code",
   "execution_count": 164,
   "metadata": {},
   "outputs": [
    {
     "data": {
      "text/plain": [
       "array([ 1.,  2.,  3.,  4.,  5.,  6.,  7.,  8.,  9., 10., 11., 12., 13.,\n",
       "       14., 15., 16., 17., 18., 19., 20., 21., 22., 23., 24., 25., 26.,\n",
       "       27., 28., 29., 30., 31., 32., 33., 34., 35., 36., 37., 38., 39.,\n",
       "       40., 41., 42., 43., 44., 45., 46., 47., 48., 49., 50., 51., 52.,\n",
       "       53., 54., 55., 56., 57., 58., 59., 60., 61., 62., 63., 64., 65.,\n",
       "       66., 67., 68., 69., 70., 71., 72., 73., 74., 75., 76., 77., 78.,\n",
       "       79., 80.])"
      ]
     },
     "execution_count": 164,
     "metadata": {},
     "output_type": "execute_result"
    }
   ],
   "source": [
    "n=80\n",
    "t = np.linspace(1,n,n)\n",
    "t"
   ]
  },
  {
   "cell_type": "code",
   "execution_count": 168,
   "metadata": {},
   "outputs": [],
   "source": [
    "lista = []\n",
    "for i in range(len(t)):\n",
    "    lista.append(proba(t[i]))\n",
    "P = np.array(lista)"
   ]
  },
  {
   "cell_type": "code",
   "execution_count": 169,
   "metadata": {},
   "outputs": [
    {
     "data": {
      "text/plain": [
       "array([1.00000000e+00, 9.97260274e-01, 9.91795834e-01, 9.83644088e-01,\n",
       "       9.72864426e-01, 9.59537516e-01, 9.43764297e-01, 9.25664708e-01,\n",
       "       9.05376166e-01, 8.83051822e-01, 8.58858622e-01, 8.32975211e-01,\n",
       "       8.05589725e-01, 7.76897488e-01, 7.47098680e-01, 7.16395995e-01,\n",
       "       6.84992335e-01, 6.53088582e-01, 6.20881474e-01, 5.88561616e-01,\n",
       "       5.56311665e-01, 5.24304692e-01, 4.92702766e-01, 4.61655742e-01,\n",
       "       4.31300296e-01, 4.01759180e-01, 3.73140718e-01, 3.45538528e-01,\n",
       "       3.19031463e-01, 2.93683757e-01, 2.69545366e-01, 2.46652472e-01,\n",
       "       2.25028146e-01, 2.04683135e-01, 1.85616761e-01, 1.67817894e-01,\n",
       "       1.51265992e-01, 1.35932179e-01, 1.21780336e-01, 1.08768190e-01,\n",
       "       9.68483885e-02, 8.59695284e-02, 7.60771443e-02, 6.71146314e-02,\n",
       "       5.90241005e-02, 5.17471566e-02, 4.52255972e-02, 3.94020271e-02,\n",
       "       3.42203907e-02, 2.96264204e-02, 2.55680067e-02, 2.19954907e-02,\n",
       "       1.88618865e-02, 1.61230372e-02, 1.37377112e-02, 1.16676451e-02,\n",
       "       9.87754066e-03, 8.33502061e-03, 7.01055158e-03, 5.87733913e-03,\n",
       "       4.91120119e-03, 4.09042510e-03, 3.39561317e-03, 2.80952103e-03,\n",
       "       2.31689269e-03, 1.90429536e-03, 1.55995702e-03, 1.27360875e-03,\n",
       "       1.03633369e-03, 8.40424035e-04, 6.79246823e-04, 5.47119359e-04,\n",
       "       4.39194444e-04, 3.51355555e-04, 2.80121826e-04, 2.22562547e-04,\n",
       "       1.76220756e-04, 1.39045419e-04, 1.09331603e-04, 8.56680507e-05])"
      ]
     },
     "execution_count": 169,
     "metadata": {},
     "output_type": "execute_result"
    }
   ],
   "source": [
    "P"
   ]
  },
  {
   "cell_type": "code",
   "execution_count": 176,
   "metadata": {},
   "outputs": [
    {
     "data": {
      "text/plain": [
       "Text(0, 0.5, 'Probabilidad')"
      ]
     },
     "execution_count": 176,
     "metadata": {},
     "output_type": "execute_result"
    },
    {
     "data": {
      "image/png": "[encoded data removed]",
      "text/plain": [
       "<Figure size 432x288 with 1 Axes>"
      ]
     },
     "metadata": {
      "needs_background": "light"
     },
     "output_type": "display_data"
    }
   ],
   "source": [
    "plt.scatter(t,P)\n",
    "plt.title('Probabilidad de tener n personas, todas con cumpleaños en días distintos')\n",
    "plt.xlabel('Cantidad de personas')\n",
    "plt.ylabel('Probabilidad')\n"
   ]
  },
  {
   "cell_type": "code",
   "execution_count": null,
   "metadata": {},
   "outputs": [],
   "source": []
  }
 ],
 "metadata": {
  "kernelspec": {
   "display_name": "Python 3",
   "language": "python",
   "name": "python3"
  },
  "language_info": {
   "codemirror_mode": {
    "name": "ipython",
    "version": 3
   },
   "file_extension": ".py",
   "mimetype": "text/x-python",
   "name": "python",
   "nbconvert_exporter": "python",
   "pygments_lexer": "ipython3",
   "version": "3.8.5"
  }
 },
 "nbformat": 4,
 "nbformat_minor": 4
}
