{
 "cells": [
  {
   "cell_type": "code",
   "execution_count": 13,
   "metadata": {},
   "outputs": [],
   "source": [
    "import numpy as np\n",
    "import matplotlib.pyplot as plt"
   ]
  },
  {
   "cell_type": "code",
   "execution_count": 14,
   "metadata": {},
   "outputs": [],
   "source": [
    "N = int(1e5)\n",
    "ncoins = 4\n",
    "\n",
    "events = [-1,1] #-1 es sello y 1 es cara\n",
    "\n",
    "Sample = np.zeros((N,ncoins))\n",
    "\n",
    "for i in range(N):\n",
    "    \n",
    "    exp = np.random.choice(events, ncoins)\n",
    "    Sample[i] = exp"
   ]
  },
  {
   "cell_type": "code",
   "execution_count": 15,
   "metadata": {},
   "outputs": [
    {
     "data": {
      "text/plain": [
       "array([[ 1.,  1., -1.,  1.],\n",
       "       [-1.,  1., -1., -1.],\n",
       "       [ 1., -1.,  1., -1.],\n",
       "       ...,\n",
       "       [ 1.,  1.,  1., -1.],\n",
       "       [ 1., -1., -1.,  1.],\n",
       "       [ 1., -1., -1.,  1.]])"
      ]
     },
     "execution_count": 15,
     "metadata": {},
     "output_type": "execute_result"
    }
   ],
   "source": [
    "Sample"
   ]
  },
  {
   "cell_type": "code",
   "execution_count": 16,
   "metadata": {},
   "outputs": [
    {
     "name": "stdout",
     "output_type": "stream",
     "text": [
      "valor obtenido:  0.37396\n",
      "valor teórico:  0.375\n"
     ]
    }
   ],
   "source": [
    "events = 0\n",
    "\n",
    "for i in range(len(Sample)):\n",
    "    \n",
    "    NCaras = 0\n",
    "    \n",
    "    for j in range(ncoins):\n",
    "        \n",
    "        if Sample[i][j] == 1:\n",
    "            NCaras += 1\n",
    "            \n",
    "    if NCaras == 2:\n",
    "        events += 1\n",
    "        \n",
    "print('valor obtenido: ',events/N)\n",
    "print('valor teórico: ',3/8)"
   ]
  },
  {
   "cell_type": "code",
   "execution_count": null,
   "metadata": {},
   "outputs": [],
   "source": []
  }
 ],
 "metadata": {
  "kernelspec": {
   "display_name": "Python 3",
   "language": "python",
   "name": "python3"
  },
  "language_info": {
   "codemirror_mode": {
    "name": "ipython",
    "version": 3
   },
   "file_extension": ".py",
   "mimetype": "text/x-python",
   "name": "python",
   "nbconvert_exporter": "python",
   "pygments_lexer": "ipython3",
   "version": "3.8.5"
  }
 },
 "nbformat": 4,
 "nbformat_minor": 4
}
